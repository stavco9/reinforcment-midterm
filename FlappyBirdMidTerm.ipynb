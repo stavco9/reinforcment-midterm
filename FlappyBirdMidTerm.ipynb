{
 "cells": [
  {
   "cell_type": "markdown",
   "metadata": {
    "colab_type": "text",
    "id": "view-in-github"
   },
   "source": [
    "<a href=\"https://colab.research.google.com/github/stavco9/reinforcment-midterm/blob/main/FlappyBirdMidTerm.ipynb\" target=\"_parent\"><img src=\"https://colab.research.google.com/assets/colab-badge.svg\" alt=\"Open In Colab\"/></a>"
   ]
  },
  {
   "cell_type": "markdown",
   "metadata": {
    "id": "LzEyrrIkyiik"
   },
   "source": [
    "## Installs"
   ]
  },
  {
   "cell_type": "markdown",
   "metadata": {
    "id": "s5hzkeZvyYk1"
   },
   "source": [
    "## Imports"
   ]
  },
  {
   "cell_type": "code",
   "execution_count": 13,
   "metadata": {
    "colab": {
     "base_uri": "https://localhost:8080/"
    },
    "id": "7vj5IGwnxwZ1",
    "outputId": "7012fd6e-ba10-4531-b2ff-da6e2cdd7c12"
   },
   "outputs": [],
   "source": [
    "import sys\n",
    "import os\n",
    "IN_COLAB = 'google.colab' in sys.modules\n",
    "if IN_COLAB:\n",
    "    # Run just in colab\n",
    "    !git clone https://github.com/ntasfi/PyGame-Learning-Environment\n",
    "    !pip install gym_ple\n",
    "    !pip install -e ./PyGame-Learning-Environment\n",
    "    !pip install pyvirtualdisplay\n",
    "    !sudo apt-get install -y xvfb ffmpeg freeglut3-dev"
   ]
  },
  {
   "cell_type": "code",
   "execution_count": 25,
   "metadata": {
    "colab": {
     "base_uri": "https://localhost:8080/"
    },
    "id": "gyVRgQEU4_M_",
    "outputId": "4e307443-a9cb-4e36-86df-7df82aaa8e57"
   },
   "outputs": [],
   "source": [
    "if IN_COLAB:\n",
    "    game_path = '/content'\n",
    "else:\n",
    "    game_path = '/Users/scohen6/projects/idc_msc/reinforcment-learning/reinforcment-midterm'\n",
    "    \n",
    "sys.path.append(os.path.join(game_path, 'PyGame-Learning-Environment'))\n",
    "from ple.games.flappybird import FlappyBird\n",
    "from ple import PLE\n",
    "from gym import spaces\n",
    "import IPython\n",
    "import numpy as np\n",
    "import gym\n",
    "import os\n",
    "import pyvirtualdisplay\n",
    "import base64\n",
    "import warnings\n",
    "import imageio\n",
    "from abc import ABC, abstractmethod\n",
    "warnings.filterwarnings(\"ignore\")\n"
   ]
  },
  {
   "cell_type": "markdown",
   "metadata": {
    "id": "9PsfB8bB6EVL"
   },
   "source": [
    "## Utility function to display episode"
   ]
  },
  {
   "cell_type": "code",
   "execution_count": 16,
   "metadata": {
    "id": "h-jaUHEU6Dau"
   },
   "outputs": [],
   "source": [
    "def embed_mp4(filename):\n",
    "  \"\"\"Embeds an mp4 file in the notebook.\"\"\"\n",
    "  video = open(filename,'rb').read()\n",
    "  b64 = base64.b64encode(video)\n",
    "  tag = '''\n",
    "  <video width=\"640\" height=\"480\" controls>\n",
    "    <source src=\"data:video/mp4;base64,{0}\" type=\"video/mp4\">\n",
    "  Your browser does not support the video tag.\n",
    "  </video>'''.format(b64.decode())\n",
    "\n",
    "  return IPython.display.HTML(tag)\n",
    "display = pyvirtualdisplay.Display(visible=0, size=(1400, 900)).start()"
   ]
  },
  {
   "cell_type": "markdown",
   "metadata": {
    "id": "9mx2jFonhEun"
   },
   "source": [
    "## Environment"
   ]
  },
  {
   "cell_type": "markdown",
   "metadata": {
    "id": "odWvOUz5r-Y3"
   },
   "source": [
    "### Environment Summary\n",
    "\n",
    "This environment simulates the *Flappy Bird* game, where the agent controls the bird’s vertical position to navigate through gaps in pipes. Built on OpenAI’s `gym.Env` class, the environment allows interaction through standard functions like `step`, `reset`, and `render`.\n",
    "\n",
    "**Key Components**\n",
    "\n",
    "- **Observation Space**: The observation space includes 8 integer values, each representing a different aspect of the game state. These include:\n",
    "  - `\"player_y\"`: The bird's vertical position.\n",
    "  - `\"player_vel\"`: The bird's vertical velocity.\n",
    "  - `\"next_pipe_dist_to_player\"`: Horizontal distance to the next pipe.\n",
    "  - Additional features: Positions of the top and bottom of the next two pipes, enabling the agent to anticipate upcoming gaps.\n",
    "\n",
    "- **Action Space**: This is a discrete space with two actions:\n",
    "  - `0`: No flap (bird falls due to gravity).\n",
    "  - `1`: Flap (bird moves upward).\n",
    "- **Using the Environment**\n",
    "\n",
    "  - **Step:**\n",
    "    The `step` function returns four parameters: `obs`, `reward`, `done`, and `info`.\n",
    "\n",
    "    - **`obs`**: The new observation after applying the action.\n",
    "    - **`reward`**: The reward received for the action.\n",
    "    - **`done`**: A boolean indicating whether the episode has ended.\n",
    "    - **`info`**: A dictionary containing additional information. In this environment, the `info` dictionary includes a `\"score\"` entry that indicates how many pipes the bird has passed since the beginning of the episode.\n",
    "  - **Reset**\n",
    "    The `reset` function restores the environment to its initial state and returns the observation of that state.\n",
    "\n",
    "  - **Render**\n",
    "    The `render` function returns an image of the current state as a NumPy array (`np.array`).\n",
    "\n",
    "  See the `Running the environment` section below for an example of how to use it.\n",
    "\n",
    "- **Customizable Parameters**:\n",
    "  - **`pipe_gap`**: This controls the vertical gap between pipes. The default is set to `80`, providing a moderate challenge.\n",
    "  - **`custom_obs`** and **`custome_observation_map`**: Setting `custom_obs=True` instructs the environment to use a custom `observation_map` specified by the user, rather than the default map. When using a custom observation map, the user must also provide a `preprocess` function compatible with the custom observation map to ensure the observations are correctly processed for the agent.\n",
    "\n",
    "  - **`preprocess`** and **`reward_shaping`**: Optional functions that allow the user to customize how observations and rewards are modified. The `preprocess` function transforms the raw observations according to the specified `observation_map`, while `reward_shaping` allows for custom adjustments to the reward structure, helping to align the environment with the agent’s learning goals.\n",
    "\n",
    "  See the `Custom observation and reward shaping example of usage` section below for an example of usage.\n",
    "\n",
    "\n",
    "\n",
    "\n"
   ]
  },
  {
   "cell_type": "code",
   "execution_count": 17,
   "metadata": {
    "id": "hEXHvbNYyd8L"
   },
   "outputs": [],
   "source": [
    "# to disable the python game window popup\n",
    "os.environ[\"SDL_VIDEODRIVER\"] = \"dummy\"\n",
    "\n",
    "OBSERVATION_MAP = {0: 'player_y',\n",
    "                   1: \"player_vel\",\n",
    "                   2: \"next_pipe_dist_to_player\",\n",
    "                   3: \"next_pipe_top_y\",\n",
    "                   4: \"next_pipe_bottom_y\",\n",
    "                   5: \"next_next_pipe_dist_to_player\",\n",
    "                   6: \"next_next_pipe_top_y\",\n",
    "                   7: \"next_next_pipe_bottom_y\",\n",
    "}\n",
    "\n",
    "class Game(gym.Env):\n",
    "    def __init__(self, display_screen=False,\n",
    "                 force_fps=True,\n",
    "                 custom_obs=False,\n",
    "                 pipe_gap=80,\n",
    "                 custome_observation_map={},\n",
    "                 preprocess=lambda x: x,\n",
    "                 reward_shaping=lambda x, y, z: x):\n",
    "\n",
    "        os.environ[\"SDL_VIDEODRIVER\"] = \"dummy\"\n",
    "        game = FlappyBird(pipe_gap=pipe_gap)  # define and initiate the environment\n",
    "        self.env = PLE(game, fps=30, display_screen=display_screen,\n",
    "                       force_fps=force_fps)\n",
    "        self.env.init()\n",
    "        # list of actions in the environment\n",
    "        self.actions = self.env.getActionSet()\n",
    "        # length of actions\n",
    "        self.action_space = spaces.Discrete(len(self.actions))\n",
    "        self.custom_obs = custom_obs\n",
    "        self._observation_map = custome_observation_map if custom_obs else OBSERVATION_MAP\n",
    "        self.preprocess = preprocess\n",
    "        self.reward_shaping = reward_shaping\n",
    "        self.score = 0\n",
    "\n",
    "    @property\n",
    "    def observation_space(self):\n",
    "        return spaces.Box(low=0, high=512, shape=(len(self._observation_map),), dtype=int)\n",
    "\n",
    "    def _get_rgb(self):\n",
    "        return self.env.getScreenRGB().transpose(1, 0, 2)\n",
    "\n",
    "    @property\n",
    "    def observation_map(self):\n",
    "        return self._observation_map\n",
    "\n",
    "    def step(self, action):\n",
    "        \"\"\"Take the action chosen and update the reward\"\"\"\n",
    "        reward = self.env.act(self.actions[action])\n",
    "        if reward < 0:\n",
    "          reward = -1\n",
    "\n",
    "        if reward > 0:\n",
    "          self.score += 1\n",
    "        state = self.env.getGameState()\n",
    "        terminal = self.env.game_over()\n",
    "        reward = self.reward_shaping(reward, terminal, env)\n",
    "        info = {'score':self.score}\n",
    "        return self.preprocess(np.array(list(state.values())).astype(int)), reward, terminal, info\n",
    "\n",
    "    def getGameState(self):\n",
    "        '''\n",
    "        PLEenv return gamestate as a dictionary. Returns a modified form\n",
    "        of the gamestate only with the required information to define the state\n",
    "        '''\n",
    "        state = self.env.getGameState()\n",
    "        h_dist = state['next_pipe_dist_to_player']\n",
    "        v_dist = state['next_pipe_bottom_y'] - state['player_y']\n",
    "        vel = state['player_vel']\n",
    "\n",
    "        return ' '.join([str(vel), str(h_dist), str(v_dist)])\n",
    "\n",
    "    def reset(self):\n",
    "        \"\"\"Resets the game to start a new game\"\"\"\n",
    "        self.env.reset_game()\n",
    "        state = self.env.getGameState()\n",
    "        self.score = 0\n",
    "        return self.preprocess(np.array(list(state.values())).astype(int))\n",
    "\n",
    "    def render(self, mode='human'):\n",
    "        \"\"\"Render the game\"\"\"\n",
    "        return self._get_rgb()\n",
    "\n",
    "    def seed(self, seed):\n",
    "        rng = np.random.RandomState(seed)\n",
    "        self.env.rng = rng\n",
    "        self.env.game.rng = self.env.rng\n",
    "\n",
    "        self.env.init()"
   ]
  },
  {
   "cell_type": "code",
   "execution_count": 18,
   "metadata": {
    "id": "WRIzH8P-_fZz"
   },
   "outputs": [
    {
     "name": "stderr",
     "output_type": "stream",
     "text": [
      "libpng warning: iCCP: known incorrect sRGB profile\n",
      "libpng warning: iCCP: known incorrect sRGB profile\n",
      "libpng warning: iCCP: known incorrect sRGB profile\n",
      "libpng warning: iCCP: known incorrect sRGB profile\n",
      "libpng warning: iCCP: known incorrect sRGB profile\n",
      "libpng warning: iCCP: known incorrect sRGB profile\n",
      "libpng warning: iCCP: known incorrect sRGB profile\n",
      "libpng warning: iCCP: known incorrect sRGB profile\n",
      "libpng warning: iCCP: known incorrect sRGB profile\n",
      "libpng warning: iCCP: known incorrect sRGB profile\n",
      "libpng warning: iCCP: known incorrect sRGB profile\n"
     ]
    }
   ],
   "source": [
    "env = Game(custom_obs=False)"
   ]
  },
  {
   "cell_type": "markdown",
   "metadata": {
    "id": "64PvA8g5_PV1"
   },
   "source": [
    "### Observation space"
   ]
  },
  {
   "cell_type": "code",
   "execution_count": 19,
   "metadata": {
    "colab": {
     "base_uri": "https://localhost:8080/"
    },
    "id": "bVz0zDuP_mI6",
    "outputId": "36e5ab0a-67a9-446f-8629-a92a31bb2cec"
   },
   "outputs": [
    {
     "name": "stdout",
     "output_type": "stream",
     "text": [
      "observation space: Box(0, 512, (8,), int64)\n",
      "feaure: 0 -> player_y\n",
      "feaure: 1 -> player_vel\n",
      "feaure: 2 -> next_pipe_dist_to_player\n",
      "feaure: 3 -> next_pipe_top_y\n",
      "feaure: 4 -> next_pipe_bottom_y\n",
      "feaure: 5 -> next_next_pipe_dist_to_player\n",
      "feaure: 6 -> next_next_pipe_top_y\n",
      "feaure: 7 -> next_next_pipe_bottom_y\n"
     ]
    }
   ],
   "source": [
    "print(f\"observation space: {env.observation_space}\")\n",
    "for feaure, des in env.observation_map.items():\n",
    "  print(f\"feaure: {feaure} -> {des}\")"
   ]
  },
  {
   "cell_type": "markdown",
   "metadata": {
    "id": "bQsBJauryXVC"
   },
   "source": [
    "In this *Flappy Bird* environment, the `Box` type represents a `Discrete` observation space in OpenAI's Gym, providing the agent with a range of values in each dimension of the environment. Here’s what each part means:\n",
    "\n",
    "* **Box**: This type of space is used to define a `Discrete`  range of values for each observation dimension. Here, it represents an 8-dimensional vector.\n",
    "* **(0, 512)**: Each dimension within this space can take values from 0 to 512, which corresponds to the pixel boundaries of the game.\n",
    "* **(8,)**: This shape indicates that there are 8 distinct variables in the observation vector, each capturing a critical feature of the environment.\n",
    "* **int64**: Each value in the vector is an integer of 64-bit precision.\n",
    "\n",
    "In summary, `Box(0, 512, (8,), int64)` represents an 8-dimensional vector space where each element is an integer from 0 to 512. Each dimension corresponds to a specific aspect of the *Flappy Bird* environment:\n",
    "\n",
    "1. **Player Y Position**: The vertical position of the bird, representing its height on the screen.\n",
    "2. **Player Velocity**: The bird’s current velocity, which impacts its movement and helps determine when to flap.\n",
    "3. **Distance to Next Pipe**: The horizontal distance between the bird and the next pipe, crucial for timing flaps.\n",
    "4. **Next Pipe Top Y Position**: The vertical position of the top of the next pipe, helping the bird gauge the gap.\n",
    "5. **Next Pipe Bottom Y Position**: The vertical position of the bottom of the next pipe, providing further data for navigating the gap.\n",
    "6. **Distance to Next-Next Pipe**: The horizontal distance to the pipe after the next one, giving the bird foresight into upcoming obstacles.\n",
    "7. **Next-Next Pipe Top Y Position**: The vertical position of the top of the pipe after the next one, extending the bird's view of upcoming gaps.\n",
    "8. **Next-Next Pipe Bottom Y Position**: The vertical position of the bottom of the pipe after the next one, for additional planning.\n",
    "\n",
    "Together, these dimensions offer the agent a detailed snapshot of the environment, helping it make decisions based on its position, velocity, and the layout of both current and upcoming obstacles.\n"
   ]
  },
  {
   "cell_type": "markdown",
   "metadata": {
    "id": "TLuIANMX0JRC"
   },
   "source": [
    "### Action space"
   ]
  },
  {
   "cell_type": "code",
   "execution_count": 20,
   "metadata": {
    "colab": {
     "base_uri": "https://localhost:8080/"
    },
    "id": "siDgIRASziZD",
    "outputId": "0565e1ce-1957-45a8-9567-54fa4ad08292"
   },
   "outputs": [
    {
     "data": {
      "text/plain": [
       "Discrete(2)"
      ]
     },
     "execution_count": 20,
     "metadata": {},
     "output_type": "execute_result"
    }
   ],
   "source": [
    "env.action_space"
   ]
  },
  {
   "cell_type": "markdown",
   "metadata": {
    "id": "tdPOZw630TUx"
   },
   "source": [
    "In this *Flappy Bird* environment, the `Discrete(2)` action space defines the possible actions the agent can take, using a finite set of discrete values:\n",
    "\n",
    "* **Discrete**: This type of space is used when there are a limited number of distinct actions.\n",
    "* **2**: The number of actions available, represented by values 0 and 1.\n",
    "\n",
    "For *Flappy Bird*, these actions correspond to:\n",
    "  * **0**: Do nothing (the bird continues to fall due to gravity).\n",
    "  * **1**: Flap (the bird moves upward briefly).\n",
    "\n",
    "In summary, `Discrete(2)` defines an action space with two possible actions: allowing the bird to either continue falling or flap to move upward, which is essential for navigating the gaps between pipes.\n"
   ]
  },
  {
   "cell_type": "markdown",
   "metadata": {
    "id": "oA95yg2--eXX"
   },
   "source": [
    "### Rewards\n",
    "\n",
    "*Reward Structure:*\n",
    "\n",
    "\n",
    "\n",
    "*   **Positive Reward**: For each pipe successfully passed, the agent receives a reward of **+1**.\n",
    "*   **Negative Reward**: Upon reaching any terminal state, the agent receives a penalty of **-1**.\n",
    "*   **Zero Reward**: Any other senario the reward is **0**\n",
    "\n",
    "\n"
   ]
  },
  {
   "cell_type": "markdown",
   "metadata": {
    "id": "sTbzOYOG33sE"
   },
   "source": [
    "### Running the environmen"
   ]
  },
  {
   "cell_type": "code",
   "execution_count": 22,
   "metadata": {
    "colab": {
     "base_uri": "https://localhost:8080/",
     "height": 519
    },
    "id": "OKOTC3dh38AP",
    "outputId": "bf747459-d3b5-4c7b-e688-f318f710af70"
   },
   "outputs": [
    {
     "name": "stderr",
     "output_type": "stream",
     "text": [
      "libpng warning: iCCP: known incorrect sRGB profile\n",
      "libpng warning: iCCP: known incorrect sRGB profile\n",
      "libpng warning: iCCP: known incorrect sRGB profile\n",
      "libpng warning: iCCP: known incorrect sRGB profile\n",
      "libpng warning: iCCP: known incorrect sRGB profile\n",
      "libpng warning: iCCP: known incorrect sRGB profile\n",
      "libpng warning: iCCP: known incorrect sRGB profile\n",
      "libpng warning: iCCP: known incorrect sRGB profile\n",
      "libpng warning: iCCP: known incorrect sRGB profile\n",
      "libpng warning: iCCP: known incorrect sRGB profile\n",
      "libpng warning: iCCP: known incorrect sRGB profile\n"
     ]
    },
    {
     "name": "stdout",
     "output_type": "stream",
     "text": [
      "Sum of rewards = -1.0 , Number of steps= 49 score:  0\n"
     ]
    },
    {
     "data": {
      "text/html": [
       "\n",
       "  <video width=\"640\" height=\"480\" controls>\n",
       "    <source src=\"data:video/mp4;base64,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\" type=\"video/mp4\">\n",
       "  Your browser does not support the video tag.\n",
       "  </video>"
      ],
      "text/plain": [
       "<IPython.core.display.HTML object>"
      ]
     },
     "execution_count": 22,
     "metadata": {},
     "output_type": "execute_result"
    }
   ],
   "source": [
    "env = Game()\n",
    "env.seed(42)\n",
    "obs = env.reset()\n",
    "video_filename = os.path.join(game_path, 'vid.mp4')\n",
    "max_steps = 100\n",
    "# Evaluation\n",
    "with imageio.get_writer(video_filename, fps=24) as video:\n",
    "  obs = env.reset()\n",
    "  done = False\n",
    "  total_reward = 0\n",
    "  for step in range(max_steps):\n",
    "      action = env.action_space.sample()\n",
    "      obs, reward, done, info = env.step(action)\n",
    "      next_obs = obs  # Get agent's position directly from the environment\n",
    "      total_reward += reward\n",
    "      re = env.render()\n",
    "      video.append_data(re)\n",
    "      if done:\n",
    "        score = info['score']\n",
    "        print(\"Sum of rewards =\", total_reward, \", Number of steps=\", step, \"score: \", score)\n",
    "        break\n",
    "embed_mp4(video_filename)"
   ]
  },
  {
   "cell_type": "markdown",
   "metadata": {
    "id": "FA6SrS10_pGo"
   },
   "source": [
    "### Custom observation and reward shaping example of usage"
   ]
  },
  {
   "cell_type": "code",
   "execution_count": 23,
   "metadata": {
    "colab": {
     "base_uri": "https://localhost:8080/",
     "height": 629
    },
    "id": "3ejzOhgJAAcV",
    "outputId": "433a4a15-e04c-41c1-bfbf-5d43113b0030"
   },
   "outputs": [
    {
     "name": "stderr",
     "output_type": "stream",
     "text": [
      "libpng warning: iCCP: known incorrect sRGB profile\n",
      "libpng warning: iCCP: known incorrect sRGB profile\n",
      "libpng warning: iCCP: known incorrect sRGB profile\n",
      "libpng warning: iCCP: known incorrect sRGB profile\n",
      "libpng warning: iCCP: known incorrect sRGB profile\n",
      "libpng warning: iCCP: known incorrect sRGB profile\n",
      "libpng warning: iCCP: known incorrect sRGB profile\n",
      "libpng warning: iCCP: known incorrect sRGB profile\n",
      "libpng warning: iCCP: known incorrect sRGB profile\n",
      "libpng warning: iCCP: known incorrect sRGB profile\n",
      "libpng warning: iCCP: known incorrect sRGB profile\n"
     ]
    },
    {
     "name": "stdout",
     "output_type": "stream",
     "text": [
      "observation space: Box(0, 512, (2,), int64)\n",
      "feaure: 0 -> average\n",
      "feaure: 1 -> sum\n",
      "reset: [ 197.5 1580. ]\n",
      "####################################################################################################\n",
      "\n",
      "Sum of rewards = 53.0 , Number of steps= 53 score:  0\n"
     ]
    },
    {
     "data": {
      "text/html": [
       "\n",
       "  <video width=\"640\" height=\"480\" controls>\n",
       "    <source src=\"data:video/mp4;base64,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\" type=\"video/mp4\">\n",
       "  Your browser does not support the video tag.\n",
       "  </video>"
      ],
      "text/plain": [
       "<IPython.core.display.HTML object>"
      ]
     },
     "execution_count": 23,
     "metadata": {},
     "output_type": "execute_result"
    }
   ],
   "source": [
    "custom_obs_mapping = {0: \"average\",\n",
    "                      1: 'sum'}\n",
    "\n",
    "# meaningless preprocess method that average and sums all of the original features\n",
    "preprocess = lambda x: np.array([np.mean(x), np.sum(x)])\n",
    "\n",
    "# meaningless reward shaping method that added 1 to each original reward\n",
    "reward_shaping = lambda x, y, z: x+1\n",
    "\n",
    "env = Game(custom_obs=True,\n",
    "           custome_observation_map=custom_obs_mapping,\n",
    "           preprocess=preprocess,\n",
    "           reward_shaping=reward_shaping)\n",
    "env.seed(42)\n",
    "obs = env.reset()\n",
    "\n",
    "print(f\"observation space: {env.observation_space}\")\n",
    "for feaure, des in env.observation_map.items():\n",
    "  print(f\"feaure: {feaure} -> {des}\")\n",
    "\n",
    "print(f\"reset: {obs}\")\n",
    "print(\"#\"*100, end=\"\\n\\n\")\n",
    "video_filename = os.path.join(game_path, 'vid.mp4')\n",
    "max_steps = 100\n",
    "# Evaluation\n",
    "with imageio.get_writer(video_filename, fps=24) as video:\n",
    "  obs = env.reset()\n",
    "  done = False\n",
    "  total_reward = 0\n",
    "  for step in range(max_steps):\n",
    "      action = env.action_space.sample()\n",
    "      obs, reward, done, info = env.step(action)\n",
    "      next_obs = obs  # Get agent's position directly from the environment\n",
    "      total_reward += reward\n",
    "      re = env.render()\n",
    "      video.append_data(re)\n",
    "      if done:\n",
    "        score = info['score']\n",
    "        print(\"Sum of rewards =\", total_reward, \", Number of steps=\", step, \"score: \", score)\n",
    "        break\n",
    "embed_mp4(video_filename)"
   ]
  },
  {
   "cell_type": "markdown",
   "metadata": {
    "id": "BSzUW-ufhISi"
   },
   "source": [
    "# Your Work begins here"
   ]
  },
  {
   "cell_type": "markdown",
   "metadata": {
    "id": "NV8nQ-G379Ek"
   },
   "source": [
    "## Preprocess"
   ]
  },
  {
   "cell_type": "markdown",
   "metadata": {
    "id": "34GXgJztd6QZ"
   },
   "source": [
    "**Define the `preprocess` Method**\n",
    "\n",
    "- Create a function called `preprocess` that takes an observation as input.\n",
    "- The purpose of this function is to transform the raw observation into a format that optimizes learning for the agent. Use your creativity to design an effective preprocessing strategy for this task.\n",
    "\n",
    "**Suggested Approaches:**\n",
    "- **Normalization or Scaling**: Adjust observation values to a common range, such as $0$ to $1$ or $0$ to $N$, to improve stability in the learning process.\n",
    "- **Feature Extraction**: Emphasize key features in the observation that are crucial for achieving the environment's goals.\n",
    "- **Dimensionality Reduction**: Simplify the observation by removing or combining less significant parts to streamline learning and reduce complexity.\n",
    "\n",
    "**Compression and Q-Table Size**\n",
    "- Reducing the complexity of the observation, through techniques like scaling, normalization, or removing redundant features, effectively compresses the data. This compression simplifies the agent’s perception of the environment, helping it focus on the most relevant information.\n",
    "- In discrete environments, reducing observation dimensionality directly impacts the size of the Q-table. By compressing the observation space, you decrease the number of possible states, which makes the Q-table smaller and easier to manage. This reduction in Q-table size not only conserves memory but can also enhance learning efficiency.\n",
    "  \n",
    "Use these ideas to explain how your preprocessing strategy compresses the observation space and helps the agent handle the environment more effectively.\n",
    "\n",
    "**Rationalize Your Preprocessing Choices**\n",
    "\n",
    "- Include a brief explanation of your preprocessing choices. Explain why you believe this approach will improve the agent's learning efficiency and performance.\n",
    "- Discuss how these adjustments make the observations more interpretable or manageable for the learning algorithm.\n",
    "\n",
    "**Important**\n",
    "- The maximum value on the **Vertical** axis is **512**.\n",
    "- The maximum value on the **Horizontal** axis is **288**.\n"
   ]
  },
  {
   "cell_type": "code",
   "execution_count": 24,
   "metadata": {
    "id": "LPHpNwt_8AAx"
   },
   "outputs": [],
   "source": [
    "custome_observation_map = {} # assing each action with a description of the feature meaning\n",
    "def preprocess(obs):\n",
    "  \"\"\"\n",
    "  insert your preprocessing code here\n",
    "  \"\"\"\n",
    "  state_repr = []\n",
    "  for i, (feaure, des) in enumerate(env.observation_map.items()):\n",
    "    state_repr.append(obs[i])\n",
    "    print(f\"feaure: {feaure} -> {des}\")\n",
    "  return obs"
   ]
  },
  {
   "cell_type": "markdown",
   "metadata": {
    "id": "562OuNkIeumH"
   },
   "source": [
    "## Reward shaping"
   ]
  },
  {
   "cell_type": "markdown",
   "metadata": {
    "id": "zOnXqApDe7tg"
   },
   "source": [
    "### Define a Reward Shaping Strategy\n",
    "\n",
    "**Reward shaping** means adjusting the rewards given to the agent to encourage desired actions and help it learn faster. In *Flappy Bird*, the goal is to create rewards that guide the bird to survive longer and avoid hitting pipes.\n",
    "\n",
    "**Steps for Reward Shaping:**\n",
    "\n",
    "1. **Identify Desired Behaviors**:\n",
    "   - Decide which behaviors you want to encourage. For example, flapping at the right time to pass through pipes or avoiding unnecessary flaps could be rewarded.\n",
    "\n",
    "2. **Design Rewards**:\n",
    "   - Use rewards that motivate the bird to take helpful actions without distracting from the main goal (staying alive). Here are some ideas:\n",
    "     - **Survival Reward**: Give a small reward for each step the bird survives.\n",
    "     - **Penalty for Hitting Pipes**: Apply a negative reward (penalty) when the bird crashes into a pipe.\n",
    "    - **Passing Through Pipes**: Provide a positive reward each time the bird successfully passes through a pipe.\n",
    "\n",
    "\n",
    "3. **Explain Your Reward Choices**:\n",
    "   - Add an explanation for your reward design. Why did you decide to reward certain actions or apply penalties?\n",
    "   - Describe how your rewards help the bird focus on staying alive and navigating pipes effectively.\n",
    "   - Provide an example demonstrating the impact of your reward shaping logic, ideally by comparing performance graphs with and without reward shaping.\n",
    "\n",
    "4. **Avoid Over-Shaping**:\n",
    "   - Avoid giving too many rewards for minor actions, as it could lead the bird to focus on short-term rewards instead of the main goal. Aim for a balance where the bird gets enough guidance without relying on intermediate rewards.\n",
    "\n",
    "**Q-Learning and Value Convergence**:\n",
    "   - Remember, shaping rewards impacts **Q-values** (the expected value of actions). When rewards are well-designed, the bird’s Q-values will better reflect valuable actions, helping it make smarter choices over time.\n",
    "\n",
    "Use these tips to develop a reward strategy that encourages the bird to navigate through pipes effectively while improving its learning.\n"
   ]
  },
  {
   "cell_type": "code",
   "execution_count": null,
   "metadata": {
    "id": "bbGZVsX3f0m5"
   },
   "outputs": [],
   "source": [
    "def reward_shaping(reward, terminal):\n",
    "  \"\"\"\n",
    "  insert your preprocessing code here\n",
    "  \"\"\"\n",
    "  return reward"
   ]
  },
  {
   "cell_type": "markdown",
   "metadata": {
    "id": "uRLgerJnhmXA"
   },
   "source": [
    "## Implementation of Learning Agents"
   ]
  },
  {
   "cell_type": "markdown",
   "metadata": {
    "id": "Yev0iBqsjZVs"
   },
   "source": [
    "Abstract Class for Implementing an On-Policy Agent\n",
    "\n",
    "Below is an abstract class to serve as a foundation for implementing an on-policy agent. Derive your agent from this class and implement the specific logic for your agent. Note that different agents may require additional parameters or functions to support their unique features and learning mechanisms.\n"
   ]
  },
  {
   "cell_type": "code",
   "execution_count": null,
   "metadata": {
    "id": "bq3JtejTh57r"
   },
   "outputs": [],
   "source": [
    "from abc import ABC, abstractmethod\n",
    "\n",
    "class OnPolicyAgent(ABC):\n",
    "    def __init__(self, action_space, observation_space, gamma, learning_rate):\n",
    "        \"\"\"\n",
    "        Initializes the on-policy RL agent.\n",
    "        You can add more parameters\n",
    "        Parameters:\n",
    "        - action_space: The action space of the environment\n",
    "        - observation_space: The observation space of the environment\n",
    "        - gamma: Discount factor for future rewards\n",
    "        - learning_rate: Learning rate for policy updates\n",
    "        \"\"\"\n",
    "        self.action_space = action_space\n",
    "        self.observation_space = observation_space\n",
    "        self.gamma = gamma\n",
    "        self.learning_rate = learning_rate\n",
    "        self.policy = None  # Placeholder for policy (to be implemented in subclasses)\n",
    "\n",
    "    @abstractmethod\n",
    "    def select_action(self, observation, deterministic=False):\n",
    "        \"\"\"\n",
    "        Select an action based on the current policy.\n",
    "\n",
    "        Parameters:\n",
    "        - observation: Current state observation from the environment\n",
    "        -deterministic: Flag indicating whether to use a deterministic policy (default is False)\n",
    "        Returns:\n",
    "        - action: Chosen action based on the policy\n",
    "        \"\"\"\n",
    "        pass\n",
    "\n",
    "    @abstractmethod\n",
    "    def update_policy(self, transition):\n",
    "        \"\"\"\n",
    "        Update the policy based on the current transition.\n",
    "\n",
    "        Parameters:\n",
    "        - transition: Data collected from interactions with the environment (tuple of zero or more values such as acion, reward etc...)\n",
    "        \"\"\"\n",
    "        pass\n",
    "\n",
    "    @abstractmethod\n",
    "    def train(self, env, num_episodes, log_every):\n",
    "        \"\"\"\n",
    "        Train the agent over a specified number of episodes.\n",
    "\n",
    "        Parameters:\n",
    "        - env: The environment to train in\n",
    "        - num_episodes: Number of training episodes\n",
    "        \"\"\"\n",
    "        pass\n",
    "\n",
    "    @abstractmethod\n",
    "    def save_policy(self, file_path):\n",
    "        \"\"\"\n",
    "        Save the current policy to a file.\n",
    "\n",
    "        Parameters:\n",
    "        - file_path: Path to the file where the policy should be saved\n",
    "        \"\"\"\n",
    "        pass\n",
    "\n",
    "    @abstractmethod\n",
    "    def load_policy(self, file_path):\n",
    "        \"\"\"\n",
    "        Load a policy from a file.\n",
    "\n",
    "        Parameters:\n",
    "        - file_path: Path to the file from which the policy should be loaded\n",
    "        \"\"\"\n",
    "        pass\n",
    "\n",
    "    @abstractmethod\n",
    "    def run_policy(self, env):\n",
    "        \"\"\"\n",
    "        Run the loaded policy in the environment for one episode.\n",
    "\n",
    "        Parameters:\n",
    "        - env: The environment in which to run the policy\n",
    "\n",
    "        Returns:\n",
    "        - total_reward: Total reward accumulated in the episode\n",
    "        \"\"\"\n",
    "        pass\n"
   ]
  },
  {
   "cell_type": "markdown",
   "metadata": {
    "id": "L4nG1NT6kLzQ"
   },
   "source": [
    "## Training"
   ]
  },
  {
   "cell_type": "markdown",
   "metadata": {
    "id": "c7SCgp8wkkQ5"
   },
   "source": [
    "#### Experimentation Instructions\n",
    "\n",
    "In this section, you will conduct a series of experiments to solve the environment using your on-policy agent. Follow these guidelines for a clear and comprehensive presentation of your work:\n",
    "\n",
    "1. **Design and Run Experiments**:\n",
    "   - Perform at least **5 distinct experiments** with your agent, including:\n",
    "     - **2 unsuccessful experiments** where the agent fails to learn the environment (reaching a score below the target).\n",
    "     - **1 successful experiment** where the agent achieves a score of **10** or higher. (Remember the score is define by the amount of pipes the agent has passed)\n",
    "\n",
    "   - *Note*: In practice, you are expected to try many configurations to observe various outcomes, even beyond these 3 experiments.\n",
    "\n",
    "2. **Provide Detailed Summaries**:\n",
    "   - For each experiment, include:\n",
    "     - **Graphs** that illustrate the training process, such as reward progression, steps, score, and  any other relevant metrics (there is many more metrics that we can learn from).\n",
    "     - **Explanations of Hyperparameters**: Clearly describe the configuration of hyperparameters chosen for each experiment, and the reasoning behind these choices.\n",
    "     - **Preprocessing and Reward Shaping**: Explain any data preprocessing or reward shaping techniques applied, along with the motivation for these techniques.\n",
    "\n",
    "3. **Analyze and Reflect**:\n",
    "   - **Result Analysis**: Analyze each experiment's outcome, focusing on why the agent may have succeeded or failed based on your configurations.\n",
    "   - **Insights and Deductions**: Draw insights from each experiment, noting what worked and what didn’t. Use these insights to refine your understanding of the environment and agent performance.\n",
    "\n",
    "4. **Final Report**:\n",
    "   - **Synthesize Findings**: Compile all observations, insights, and analysis from your experiments into a final report. This report should showcase your learnings and demonstrate a deep understanding of the experimentation process.\n",
    "   - **Emphasis on Analysis**: The analysis of your results and the conclusions drawn are the most critical aspects of this exercise. Dedicate ample attention to this section, as it will reflect your ability to interpret and understand the agent’s learning process.\n",
    "\n",
    "**Remember**: The goal of this exercise is to experiment, learn, and iterate. Document your process thoroughly, as this will form the foundation of your report.\n"
   ]
  },
  {
   "cell_type": "code",
   "execution_count": null,
   "metadata": {
    "id": "VY9jRQEcgiyw"
   },
   "outputs": [],
   "source": [
    "class TrivialPolicy(OnPolicyAgent):\n",
    "    def __init__(self, action_space, observation_space, gamma, learning_rate):\n",
    "        \"\"\"\n",
    "        Initializes the on-policy RL agent.\n",
    "        You can add more parameters\n",
    "        Parameters:\n",
    "        - action_space: The action space of the environment\n",
    "        - observation_space: The observation space of the environment\n",
    "        - gamma: Discount factor for future rewards\n",
    "        - learning_rate: Learning rate for policy updates\n",
    "        \"\"\"\n",
    "        # Initiate parent class with super.__init__() style\n",
    "        self.policy = None  # Placeholder for policy (to be implemented in subclasses)\n",
    "\n",
    "    def select_action(self, observation, deterministic=False):\n",
    "        \"\"\"\n",
    "        Select an action based on the current policy.\n",
    "\n",
    "        Parameters:\n",
    "        - observation: Current state observation from the environment\n",
    "        -deterministic: Flag indicating whether to use a deterministic policy (default is False)\n",
    "        Returns:\n",
    "        - action: Chosen action based on the policy\n",
    "        \"\"\"\n",
    "        pass\n",
    "\n",
    "    def update_policy(self, transition):\n",
    "        \"\"\"\n",
    "        Update the policy based on the current transition.\n",
    "\n",
    "        Parameters:\n",
    "        - transition: Data collected from interactions with the environment (tuple of zero or more values such as acion, reward etc...)\n",
    "        \"\"\"\n",
    "        pass\n",
    "\n",
    "    def train(self, env, num_episodes, log_every):\n",
    "        \"\"\"\n",
    "        Train the agent over a specified number of episodes.\n",
    "\n",
    "        Parameters:\n",
    "        - env: The environment to train in\n",
    "        - num_episodes: Number of training episodes\n",
    "\n",
    "        Here we need to invoke (in a loop)\n",
    "          * `select_action`\n",
    "          * get the reward somehow\n",
    "          * `update_policy`\n",
    "        \"\"\"\n",
    "        pass\n",
    "\n",
    "    def save_policy(self, file_path):\n",
    "        \"\"\"\n",
    "        Save the current policy to a file.\n",
    "\n",
    "        Parameters:\n",
    "        - file_path: Path to the file where the policy should be saved\n",
    "        \"\"\"\n",
    "        pass\n",
    "\n",
    "    def load_policy(self, file_path):\n",
    "        \"\"\"\n",
    "        Load a policy from a file.\n",
    "\n",
    "        Parameters:\n",
    "        - file_path: Path to the file from which the policy should be loaded\n",
    "        \"\"\"\n",
    "        pass\n",
    "\n",
    "    def run_policy(self, env):\n",
    "        \"\"\"\n",
    "        Run the loaded policy in the environment for one episode.\n",
    "\n",
    "        Parameters:\n",
    "        - env: The environment in which to run the policy\n",
    "\n",
    "        Returns:\n",
    "        - total_reward: Total reward accumulated in the episode\n",
    "        \"\"\"\n",
    "        pass\n"
   ]
  },
  {
   "cell_type": "code",
   "execution_count": null,
   "metadata": {
    "colab": {
     "base_uri": "https://localhost:8080/",
     "height": 36
    },
    "id": "PHfYUscjkThj",
    "outputId": "903bc3ec-4efb-4167-c2cb-40ac544f8c27"
   },
   "outputs": [
    {
     "data": {
      "application/vnd.google.colaboratory.intrinsic+json": {
       "type": "string"
      },
      "text/plain": [
       "'\\nInsert you experiment code here\\n'"
      ]
     },
     "execution_count": 49,
     "metadata": {},
     "output_type": "execute_result"
    }
   ],
   "source": [
    "env = Game(custom_obs=True, preprocess=preprocess, reward_shaping=reward_shaping, custome_observation_map=custome_observation_map)\n",
    "\"\"\"\n",
    "Insert you experiment code here\n",
    "\n",
    "Consider creating a dictionary for {Policy_class (class obs): file_name (str)}\n",
    "\n",
    "policy_dict = {\n",
    "  TrivialPolicy: 'trivial_policy.txt'\n",
    "}\n",
    "\n",
    "e.g.\n",
    "trivial_policy = TrivialPolicy()\n",
    "trivial_policy.train(env)\n",
    "trivial_policy.save_policy() (e.g. use the dict)\n",
    "\n",
    "\n",
    "for policy, policy_file in policy_dict.items():\n",
    "    policy = policy()\n",
    "    policy.train(env)\n",
    "    policy.save_policy(policy_file)\n",
    "\"\"\""
   ]
  },
  {
   "cell_type": "markdown",
   "metadata": {
    "id": "Vk9cklTikbu_"
   },
   "source": [
    "## Validation"
   ]
  },
  {
   "cell_type": "markdown",
   "metadata": {
    "id": "-4Z_jvJErVsQ"
   },
   "source": [
    "#### Validation Section\n",
    "\n",
    "In this section, you will validate your agent’s performance using the best-performing configuration identified in the experimentation phase. This validation step should be less exhaustive than the experimentation section but should provide sufficient evidence of your agent's consistency and stability.\n",
    "\n",
    "1. **Run Validation Trials**:\n",
    "   - Using the chosen configuration, run the agent in the environment for **multiple trials** (e.g., 5-10 episodes) to test its reliability.\n",
    "   - Observe the agent's performance across these trials to confirm whether it consistently achieves or exceeds the target score of 10.\n",
    "\n",
    "2. **Provide Key Summaries**:\n",
    "   - **Performance Metrics**: Summarize the agent’s performance with key metrics such as average score, highest score, and variance across trials.\n",
    "   - **Graphs** (Optional): Include basic graphs showing score progression or any other relevant metric, if they provide additional insight into the agent's stability.\n",
    "\n",
    "3. **Brief Analysis**:\n",
    "   - Reflect on the agent's performance in validation. Note any patterns or inconsistencies and provide a short explanation of how these results align (or differ) from your expectations based on the experimentation phase.\n",
    "\n",
    "*Note*: This validation section should confirm and strengthen the results of your experimentation, focusing on reliability and consistency rather than extensive analysis.\n",
    "\n",
    "*Note*: Store the agent's policy to files since you asked to provide aditional notbook that loads the agent policy\n"
   ]
  },
  {
   "cell_type": "code",
   "execution_count": 12,
   "metadata": {
    "colab": {
     "base_uri": "https://localhost:8080/",
     "height": 36
    },
    "id": "65TXpKkgkeic",
    "outputId": "75bd1ec9-3cc0-423a-d6bc-a44643a73351"
   },
   "outputs": [
    {
     "data": {
      "application/vnd.google.colaboratory.intrinsic+json": {
       "type": "string"
      },
      "text/plain": [
       "'\\nInsert you validation code here\\n\\nIterate over (Policy_name, policy_filename)\\n'"
      ]
     },
     "execution_count": 12,
     "metadata": {},
     "output_type": "execute_result"
    }
   ],
   "source": [
    "\"\"\"\n",
    "Insert you validation code here\n",
    "\n",
    "Iterate over (Policy_name, policy_filename)\n",
    "  * trivial_policy = TrivialPolicy()\n",
    "  * trivial_policy.load_policy('trivial_policy.txt')\n",
    "  * trivial_policy.run_policy()\n",
    "\n",
    "\n",
    "e.g. consider\n",
    "\n",
    "scores list?\n",
    "for policy, policy_file in policy_dict.items():\n",
    "    policy = policy()\n",
    "    policy.load_policy(policy_file)\n",
    "    policy.run_policy()\n",
    "    # save score of experiment\n",
    "\n",
    "\n",
    "# Select best policy and present statistics?\n",
    "\"\"\""
   ]
  },
  {
   "cell_type": "code",
   "execution_count": null,
   "metadata": {
    "id": "P0IEb1X-h_Wc"
   },
   "outputs": [],
   "source": []
  }
 ],
 "metadata": {
  "colab": {
   "collapsed_sections": [
    "9PsfB8bB6EVL",
    "-4Z_jvJErVsQ"
   ],
   "include_colab_link": true,
   "provenance": [],
   "toc_visible": true
  },
  "kernelspec": {
   "display_name": "reinforcment",
   "language": "python",
   "name": "reinforcment"
  },
  "language_info": {
   "codemirror_mode": {
    "name": "ipython",
    "version": 3
   },
   "file_extension": ".py",
   "mimetype": "text/x-python",
   "name": "python",
   "nbconvert_exporter": "python",
   "pygments_lexer": "ipython3",
   "version": "3.13.0"
  }
 },
 "nbformat": 4,
 "nbformat_minor": 4
}
