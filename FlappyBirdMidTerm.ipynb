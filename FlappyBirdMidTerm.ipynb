{
  "nbformat": 4,
  "nbformat_minor": 0,
  "metadata": {
    "colab": {
      "provenance": [],
      "collapsed_sections": [
        "9PsfB8bB6EVL",
        "-4Z_jvJErVsQ"
      ],
      "toc_visible": true,
      "include_colab_link": true
    },
    "kernelspec": {
      "name": "python3",
      "display_name": "Python 3"
    },
    "language_info": {
      "name": "python"
    }
  },
  "cells": [
    {
      "cell_type": "markdown",
      "metadata": {
        "id": "view-in-github",
        "colab_type": "text"
      },
      "source": [
        "<a href=\"https://colab.research.google.com/github/stavco9/reinforcment-midterm/blob/main/FlappyBirdMidTerm.ipynb\" target=\"_parent\"><img src=\"https://colab.research.google.com/assets/colab-badge.svg\" alt=\"Open In Colab\"/></a>"
      ]
    },
    {
      "cell_type": "markdown",
      "source": [
        "## Installs"
      ],
      "metadata": {
        "id": "LzEyrrIkyiik"
      }
    },
    {
      "cell_type": "markdown",
      "source": [
        "## Imports"
      ],
      "metadata": {
        "id": "s5hzkeZvyYk1"
      }
    },
    {
      "cell_type": "code",
      "source": [
        "!git clone https://github.com/ntasfi/PyGame-Learning-Environment\n",
        "!pip install gym_ple\n",
        "!pip install -e ./PyGame-Learning-Environment\n",
        "!pip install pyvirtualdisplay\n",
        "!sudo apt-get install -y xvfb ffmpeg freeglut3-dev"
      ],
      "metadata": {
        "id": "7vj5IGwnxwZ1",
        "colab": {
          "base_uri": "https://localhost:8080/"
        },
        "outputId": "7012fd6e-ba10-4531-b2ff-da6e2cdd7c12"
      },
      "execution_count": 1,
      "outputs": [
        {
          "output_type": "stream",
          "name": "stdout",
          "text": [
            "Cloning into 'PyGame-Learning-Environment'...\n",
            "remote: Enumerating objects: 1118, done.\u001b[K\n",
            "remote: Total 1118 (delta 0), reused 0 (delta 0), pack-reused 1118 (from 1)\u001b[K\n",
            "Receiving objects: 100% (1118/1118), 8.06 MiB | 13.59 MiB/s, done.\n",
            "Resolving deltas: 100% (592/592), done.\n",
            "Collecting gym_ple\n",
            "  Downloading gym_ple-0.3.tar.gz (4.0 kB)\n",
            "  Preparing metadata (setup.py) ... \u001b[?25l\u001b[?25hdone\n",
            "Building wheels for collected packages: gym_ple\n",
            "  Building wheel for gym_ple (setup.py) ... \u001b[?25l\u001b[?25hdone\n",
            "  Created wheel for gym_ple: filename=gym_ple-0.3-py3-none-any.whl size=4458 sha256=e7043891ccd9fa9aa7c7c7d70ab5933805fe4b5c6087c0f6374037856ecc354a\n",
            "  Stored in directory: /root/.cache/pip/wheels/71/96/17/a59c56c130c89ad5816ef952c93cad65803807f1a3891ba994\n",
            "Successfully built gym_ple\n",
            "Installing collected packages: gym_ple\n",
            "Successfully installed gym_ple-0.3\n",
            "Obtaining file:///content/PyGame-Learning-Environment\n",
            "  Preparing metadata (setup.py) ... \u001b[?25l\u001b[?25hdone\n",
            "Requirement already satisfied: numpy in /usr/local/lib/python3.10/dist-packages (from ple==0.0.1) (1.26.4)\n",
            "Requirement already satisfied: Pillow in /usr/local/lib/python3.10/dist-packages (from ple==0.0.1) (11.0.0)\n",
            "Installing collected packages: ple\n",
            "  Running setup.py develop for ple\n",
            "Successfully installed ple-0.0.1\n",
            "Collecting pyvirtualdisplay\n",
            "  Downloading PyVirtualDisplay-3.0-py3-none-any.whl.metadata (943 bytes)\n",
            "Downloading PyVirtualDisplay-3.0-py3-none-any.whl (15 kB)\n",
            "Installing collected packages: pyvirtualdisplay\n",
            "Successfully installed pyvirtualdisplay-3.0\n",
            "Reading package lists... Done\n",
            "Building dependency tree... Done\n",
            "Reading state information... Done\n",
            "ffmpeg is already the newest version (7:4.4.2-0ubuntu0.22.04.1).\n",
            "The following additional packages will be installed:\n",
            "  freeglut3 libegl-dev libfontenc1 libgl-dev libgl1-mesa-dev libgles-dev\n",
            "  libgles1 libglu1-mesa libglu1-mesa-dev libglvnd-core-dev libglvnd-dev\n",
            "  libglx-dev libice-dev libopengl-dev libsm-dev libxfont2 libxkbfile1\n",
            "  libxt-dev x11-xkb-utils xfonts-base xfonts-encodings xfonts-utils\n",
            "  xserver-common\n",
            "Suggested packages:\n",
            "  libice-doc libsm-doc libxt-doc\n",
            "The following NEW packages will be installed:\n",
            "  freeglut3 freeglut3-dev libegl-dev libfontenc1 libgl-dev libgl1-mesa-dev\n",
            "  libgles-dev libgles1 libglu1-mesa libglu1-mesa-dev libglvnd-core-dev\n",
            "  libglvnd-dev libglx-dev libice-dev libopengl-dev libsm-dev libxfont2\n",
            "  libxkbfile1 libxt-dev x11-xkb-utils xfonts-base xfonts-encodings\n",
            "  xfonts-utils xserver-common xvfb\n",
            "0 upgraded, 25 newly installed, 0 to remove and 49 not upgraded.\n",
            "Need to get 9,076 kB of archives.\n",
            "After this operation, 18.7 MB of additional disk space will be used.\n",
            "Get:1 http://archive.ubuntu.com/ubuntu jammy/universe amd64 freeglut3 amd64 2.8.1-6 [74.0 kB]\n",
            "Get:2 http://archive.ubuntu.com/ubuntu jammy/main amd64 libglx-dev amd64 1.4.0-1 [14.1 kB]\n",
            "Get:3 http://archive.ubuntu.com/ubuntu jammy/main amd64 libgl-dev amd64 1.4.0-1 [101 kB]\n",
            "Get:4 http://archive.ubuntu.com/ubuntu jammy/main amd64 libglvnd-core-dev amd64 1.4.0-1 [12.7 kB]\n",
            "Get:5 http://archive.ubuntu.com/ubuntu jammy/main amd64 libegl-dev amd64 1.4.0-1 [18.0 kB]\n",
            "Get:6 http://archive.ubuntu.com/ubuntu jammy/main amd64 libgles1 amd64 1.4.0-1 [11.5 kB]\n",
            "Get:7 http://archive.ubuntu.com/ubuntu jammy/main amd64 libgles-dev amd64 1.4.0-1 [49.4 kB]\n",
            "Get:8 http://archive.ubuntu.com/ubuntu jammy/main amd64 libopengl-dev amd64 1.4.0-1 [3,400 B]\n",
            "Get:9 http://archive.ubuntu.com/ubuntu jammy/main amd64 libglvnd-dev amd64 1.4.0-1 [3,162 B]\n",
            "Get:10 http://archive.ubuntu.com/ubuntu jammy-updates/main amd64 libgl1-mesa-dev amd64 23.2.1-1ubuntu3.1~22.04.3 [6,848 B]\n",
            "Get:11 http://archive.ubuntu.com/ubuntu jammy/main amd64 libglu1-mesa amd64 9.0.2-1 [145 kB]\n",
            "Get:12 http://archive.ubuntu.com/ubuntu jammy/main amd64 libglu1-mesa-dev amd64 9.0.2-1 [231 kB]\n",
            "Get:13 http://archive.ubuntu.com/ubuntu jammy/main amd64 libice-dev amd64 2:1.0.10-1build2 [51.4 kB]\n",
            "Get:14 http://archive.ubuntu.com/ubuntu jammy/main amd64 libsm-dev amd64 2:1.2.3-1build2 [18.1 kB]\n",
            "Get:15 http://archive.ubuntu.com/ubuntu jammy/main amd64 libxt-dev amd64 1:1.2.1-1 [396 kB]\n",
            "Get:16 http://archive.ubuntu.com/ubuntu jammy/universe amd64 freeglut3-dev amd64 2.8.1-6 [126 kB]\n",
            "Get:17 http://archive.ubuntu.com/ubuntu jammy/main amd64 libfontenc1 amd64 1:1.1.4-1build3 [14.7 kB]\n",
            "Get:18 http://archive.ubuntu.com/ubuntu jammy/main amd64 libxfont2 amd64 1:2.0.5-1build1 [94.5 kB]\n",
            "Get:19 http://archive.ubuntu.com/ubuntu jammy/main amd64 libxkbfile1 amd64 1:1.1.0-1build3 [71.8 kB]\n",
            "Get:20 http://archive.ubuntu.com/ubuntu jammy/main amd64 x11-xkb-utils amd64 7.7+5build4 [172 kB]\n",
            "Get:21 http://archive.ubuntu.com/ubuntu jammy/main amd64 xfonts-encodings all 1:1.0.5-0ubuntu2 [578 kB]\n",
            "Get:22 http://archive.ubuntu.com/ubuntu jammy/main amd64 xfonts-utils amd64 1:7.7+6build2 [94.6 kB]\n",
            "Get:23 http://archive.ubuntu.com/ubuntu jammy/main amd64 xfonts-base all 1:1.0.5 [5,896 kB]\n",
            "Get:24 http://archive.ubuntu.com/ubuntu jammy-updates/main amd64 xserver-common all 2:21.1.4-2ubuntu1.7~22.04.12 [28.7 kB]\n",
            "Get:25 http://archive.ubuntu.com/ubuntu jammy-updates/universe amd64 xvfb amd64 2:21.1.4-2ubuntu1.7~22.04.12 [864 kB]\n",
            "Fetched 9,076 kB in 1s (7,771 kB/s)\n",
            "debconf: unable to initialize frontend: Dialog\n",
            "debconf: (No usable dialog-like program is installed, so the dialog based frontend cannot be used. at /usr/share/perl5/Debconf/FrontEnd/Dialog.pm line 78, <> line 25.)\n",
            "debconf: falling back to frontend: Readline\n",
            "debconf: unable to initialize frontend: Readline\n",
            "debconf: (This frontend requires a controlling tty.)\n",
            "debconf: falling back to frontend: Teletype\n",
            "dpkg-preconfigure: unable to re-open stdin: \n",
            "Selecting previously unselected package freeglut3:amd64.\n",
            "(Reading database ... 123634 files and directories currently installed.)\n",
            "Preparing to unpack .../00-freeglut3_2.8.1-6_amd64.deb ...\n",
            "Unpacking freeglut3:amd64 (2.8.1-6) ...\n",
            "Selecting previously unselected package libglx-dev:amd64.\n",
            "Preparing to unpack .../01-libglx-dev_1.4.0-1_amd64.deb ...\n",
            "Unpacking libglx-dev:amd64 (1.4.0-1) ...\n",
            "Selecting previously unselected package libgl-dev:amd64.\n",
            "Preparing to unpack .../02-libgl-dev_1.4.0-1_amd64.deb ...\n",
            "Unpacking libgl-dev:amd64 (1.4.0-1) ...\n",
            "Selecting previously unselected package libglvnd-core-dev:amd64.\n",
            "Preparing to unpack .../03-libglvnd-core-dev_1.4.0-1_amd64.deb ...\n",
            "Unpacking libglvnd-core-dev:amd64 (1.4.0-1) ...\n",
            "Selecting previously unselected package libegl-dev:amd64.\n",
            "Preparing to unpack .../04-libegl-dev_1.4.0-1_amd64.deb ...\n",
            "Unpacking libegl-dev:amd64 (1.4.0-1) ...\n",
            "Selecting previously unselected package libgles1:amd64.\n",
            "Preparing to unpack .../05-libgles1_1.4.0-1_amd64.deb ...\n",
            "Unpacking libgles1:amd64 (1.4.0-1) ...\n",
            "Selecting previously unselected package libgles-dev:amd64.\n",
            "Preparing to unpack .../06-libgles-dev_1.4.0-1_amd64.deb ...\n",
            "Unpacking libgles-dev:amd64 (1.4.0-1) ...\n",
            "Selecting previously unselected package libopengl-dev:amd64.\n",
            "Preparing to unpack .../07-libopengl-dev_1.4.0-1_amd64.deb ...\n",
            "Unpacking libopengl-dev:amd64 (1.4.0-1) ...\n",
            "Selecting previously unselected package libglvnd-dev:amd64.\n",
            "Preparing to unpack .../08-libglvnd-dev_1.4.0-1_amd64.deb ...\n",
            "Unpacking libglvnd-dev:amd64 (1.4.0-1) ...\n",
            "Selecting previously unselected package libgl1-mesa-dev:amd64.\n",
            "Preparing to unpack .../09-libgl1-mesa-dev_23.2.1-1ubuntu3.1~22.04.3_amd64.deb ...\n",
            "Unpacking libgl1-mesa-dev:amd64 (23.2.1-1ubuntu3.1~22.04.3) ...\n",
            "Selecting previously unselected package libglu1-mesa:amd64.\n",
            "Preparing to unpack .../10-libglu1-mesa_9.0.2-1_amd64.deb ...\n",
            "Unpacking libglu1-mesa:amd64 (9.0.2-1) ...\n",
            "Selecting previously unselected package libglu1-mesa-dev:amd64.\n",
            "Preparing to unpack .../11-libglu1-mesa-dev_9.0.2-1_amd64.deb ...\n",
            "Unpacking libglu1-mesa-dev:amd64 (9.0.2-1) ...\n",
            "Selecting previously unselected package libice-dev:amd64.\n",
            "Preparing to unpack .../12-libice-dev_2%3a1.0.10-1build2_amd64.deb ...\n",
            "Unpacking libice-dev:amd64 (2:1.0.10-1build2) ...\n",
            "Selecting previously unselected package libsm-dev:amd64.\n",
            "Preparing to unpack .../13-libsm-dev_2%3a1.2.3-1build2_amd64.deb ...\n",
            "Unpacking libsm-dev:amd64 (2:1.2.3-1build2) ...\n",
            "Selecting previously unselected package libxt-dev:amd64.\n",
            "Preparing to unpack .../14-libxt-dev_1%3a1.2.1-1_amd64.deb ...\n",
            "Unpacking libxt-dev:amd64 (1:1.2.1-1) ...\n",
            "Selecting previously unselected package freeglut3-dev:amd64.\n",
            "Preparing to unpack .../15-freeglut3-dev_2.8.1-6_amd64.deb ...\n",
            "Unpacking freeglut3-dev:amd64 (2.8.1-6) ...\n",
            "Selecting previously unselected package libfontenc1:amd64.\n",
            "Preparing to unpack .../16-libfontenc1_1%3a1.1.4-1build3_amd64.deb ...\n",
            "Unpacking libfontenc1:amd64 (1:1.1.4-1build3) ...\n",
            "Selecting previously unselected package libxfont2:amd64.\n",
            "Preparing to unpack .../17-libxfont2_1%3a2.0.5-1build1_amd64.deb ...\n",
            "Unpacking libxfont2:amd64 (1:2.0.5-1build1) ...\n",
            "Selecting previously unselected package libxkbfile1:amd64.\n",
            "Preparing to unpack .../18-libxkbfile1_1%3a1.1.0-1build3_amd64.deb ...\n",
            "Unpacking libxkbfile1:amd64 (1:1.1.0-1build3) ...\n",
            "Selecting previously unselected package x11-xkb-utils.\n",
            "Preparing to unpack .../19-x11-xkb-utils_7.7+5build4_amd64.deb ...\n",
            "Unpacking x11-xkb-utils (7.7+5build4) ...\n",
            "Selecting previously unselected package xfonts-encodings.\n",
            "Preparing to unpack .../20-xfonts-encodings_1%3a1.0.5-0ubuntu2_all.deb ...\n",
            "Unpacking xfonts-encodings (1:1.0.5-0ubuntu2) ...\n",
            "Selecting previously unselected package xfonts-utils.\n",
            "Preparing to unpack .../21-xfonts-utils_1%3a7.7+6build2_amd64.deb ...\n",
            "Unpacking xfonts-utils (1:7.7+6build2) ...\n",
            "Selecting previously unselected package xfonts-base.\n",
            "Preparing to unpack .../22-xfonts-base_1%3a1.0.5_all.deb ...\n",
            "Unpacking xfonts-base (1:1.0.5) ...\n",
            "Selecting previously unselected package xserver-common.\n",
            "Preparing to unpack .../23-xserver-common_2%3a21.1.4-2ubuntu1.7~22.04.12_all.deb ...\n",
            "Unpacking xserver-common (2:21.1.4-2ubuntu1.7~22.04.12) ...\n",
            "Selecting previously unselected package xvfb.\n",
            "Preparing to unpack .../24-xvfb_2%3a21.1.4-2ubuntu1.7~22.04.12_amd64.deb ...\n",
            "Unpacking xvfb (2:21.1.4-2ubuntu1.7~22.04.12) ...\n",
            "Setting up freeglut3:amd64 (2.8.1-6) ...\n",
            "Setting up libglvnd-core-dev:amd64 (1.4.0-1) ...\n",
            "Setting up libice-dev:amd64 (2:1.0.10-1build2) ...\n",
            "Setting up libsm-dev:amd64 (2:1.2.3-1build2) ...\n",
            "Setting up libfontenc1:amd64 (1:1.1.4-1build3) ...\n",
            "Setting up libxt-dev:amd64 (1:1.2.1-1) ...\n",
            "Setting up libgles1:amd64 (1.4.0-1) ...\n",
            "Setting up xfonts-encodings (1:1.0.5-0ubuntu2) ...\n",
            "Setting up libglx-dev:amd64 (1.4.0-1) ...\n",
            "Setting up libglu1-mesa:amd64 (9.0.2-1) ...\n",
            "Setting up libxkbfile1:amd64 (1:1.1.0-1build3) ...\n",
            "Setting up libopengl-dev:amd64 (1.4.0-1) ...\n",
            "Setting up libxfont2:amd64 (1:2.0.5-1build1) ...\n",
            "Setting up libgl-dev:amd64 (1.4.0-1) ...\n",
            "Setting up libegl-dev:amd64 (1.4.0-1) ...\n",
            "Setting up x11-xkb-utils (7.7+5build4) ...\n",
            "Setting up xfonts-utils (1:7.7+6build2) ...\n",
            "Setting up xfonts-base (1:1.0.5) ...\n",
            "Setting up libglu1-mesa-dev:amd64 (9.0.2-1) ...\n",
            "Setting up xserver-common (2:21.1.4-2ubuntu1.7~22.04.12) ...\n",
            "Setting up libgles-dev:amd64 (1.4.0-1) ...\n",
            "Setting up xvfb (2:21.1.4-2ubuntu1.7~22.04.12) ...\n",
            "Setting up libglvnd-dev:amd64 (1.4.0-1) ...\n",
            "Setting up libgl1-mesa-dev:amd64 (23.2.1-1ubuntu3.1~22.04.3) ...\n",
            "Setting up freeglut3-dev:amd64 (2.8.1-6) ...\n",
            "Processing triggers for libc-bin (2.35-0ubuntu3.4) ...\n",
            "/sbin/ldconfig.real: /usr/local/lib/libtbb.so.12 is not a symbolic link\n",
            "\n",
            "/sbin/ldconfig.real: /usr/local/lib/libur_loader.so.0 is not a symbolic link\n",
            "\n",
            "/sbin/ldconfig.real: /usr/local/lib/libtbbbind.so.3 is not a symbolic link\n",
            "\n",
            "/sbin/ldconfig.real: /usr/local/lib/libtcm.so.1 is not a symbolic link\n",
            "\n",
            "/sbin/ldconfig.real: /usr/local/lib/libtbbmalloc_proxy.so.2 is not a symbolic link\n",
            "\n",
            "/sbin/ldconfig.real: /usr/local/lib/libur_adapter_opencl.so.0 is not a symbolic link\n",
            "\n",
            "/sbin/ldconfig.real: /usr/local/lib/libtbbbind_2_0.so.3 is not a symbolic link\n",
            "\n",
            "/sbin/ldconfig.real: /usr/local/lib/libur_adapter_level_zero.so.0 is not a symbolic link\n",
            "\n",
            "/sbin/ldconfig.real: /usr/local/lib/libtcm_debug.so.1 is not a symbolic link\n",
            "\n",
            "/sbin/ldconfig.real: /usr/local/lib/libhwloc.so.15 is not a symbolic link\n",
            "\n",
            "/sbin/ldconfig.real: /usr/local/lib/libumf.so.0 is not a symbolic link\n",
            "\n",
            "/sbin/ldconfig.real: /usr/local/lib/libtbbmalloc.so.2 is not a symbolic link\n",
            "\n",
            "/sbin/ldconfig.real: /usr/local/lib/libtbbbind_2_5.so.3 is not a symbolic link\n",
            "\n",
            "Processing triggers for man-db (2.10.2-1) ...\n",
            "Processing triggers for fontconfig (2.13.1-4.2ubuntu5) ...\n"
          ]
        }
      ]
    },
    {
      "cell_type": "code",
      "source": [
        "import sys\n",
        "sys.path.append('/content/PyGame-Learning-Environment')\n",
        "from ple.games.flappybird import FlappyBird\n",
        "from ple import PLE\n",
        "from gym import spaces\n",
        "import IPython\n",
        "import numpy as np\n",
        "import gym\n",
        "import os\n",
        "import pyvirtualdisplay\n",
        "import base64\n",
        "import warnings\n",
        "import imageio\n",
        "from abc import ABC, abstractmethod\n",
        "warnings.filterwarnings(\"ignore\")\n"
      ],
      "metadata": {
        "id": "gyVRgQEU4_M_",
        "colab": {
          "base_uri": "https://localhost:8080/"
        },
        "outputId": "4e307443-a9cb-4e36-86df-7df82aaa8e57"
      },
      "execution_count": 2,
      "outputs": [
        {
          "output_type": "stream",
          "name": "stdout",
          "text": [
            "pygame 2.6.1 (SDL 2.28.4, Python 3.10.12)\n",
            "Hello from the pygame community. https://www.pygame.org/contribute.html\n",
            "couldn't import doomish\n",
            "Couldn't import doom\n"
          ]
        }
      ]
    },
    {
      "cell_type": "markdown",
      "source": [
        "## Utility function to display episode"
      ],
      "metadata": {
        "id": "9PsfB8bB6EVL"
      }
    },
    {
      "cell_type": "code",
      "source": [
        "def embed_mp4(filename):\n",
        "  \"\"\"Embeds an mp4 file in the notebook.\"\"\"\n",
        "  video = open(filename,'rb').read()\n",
        "  b64 = base64.b64encode(video)\n",
        "  tag = '''\n",
        "  <video width=\"640\" height=\"480\" controls>\n",
        "    <source src=\"data:video/mp4;base64,{0}\" type=\"video/mp4\">\n",
        "  Your browser does not support the video tag.\n",
        "  </video>'''.format(b64.decode())\n",
        "\n",
        "  return IPython.display.HTML(tag)\n",
        "display = pyvirtualdisplay.Display(visible=0, size=(1400, 900)).start()"
      ],
      "metadata": {
        "id": "h-jaUHEU6Dau"
      },
      "execution_count": 3,
      "outputs": []
    },
    {
      "cell_type": "markdown",
      "source": [
        "## Environment"
      ],
      "metadata": {
        "id": "9mx2jFonhEun"
      }
    },
    {
      "cell_type": "markdown",
      "source": [
        "### Environment Summary\n",
        "\n",
        "This environment simulates the *Flappy Bird* game, where the agent controls the bird’s vertical position to navigate through gaps in pipes. Built on OpenAI’s `gym.Env` class, the environment allows interaction through standard functions like `step`, `reset`, and `render`.\n",
        "\n",
        "**Key Components**\n",
        "\n",
        "- **Observation Space**: The observation space includes 8 integer values, each representing a different aspect of the game state. These include:\n",
        "  - `\"player_y\"`: The bird's vertical position.\n",
        "  - `\"player_vel\"`: The bird's vertical velocity.\n",
        "  - `\"next_pipe_dist_to_player\"`: Horizontal distance to the next pipe.\n",
        "  - Additional features: Positions of the top and bottom of the next two pipes, enabling the agent to anticipate upcoming gaps.\n",
        "\n",
        "- **Action Space**: This is a discrete space with two actions:\n",
        "  - `0`: No flap (bird falls due to gravity).\n",
        "  - `1`: Flap (bird moves upward).\n",
        "- **Using the Environment**\n",
        "\n",
        "  - **Step:**\n",
        "    The `step` function returns four parameters: `obs`, `reward`, `done`, and `info`.\n",
        "\n",
        "    - **`obs`**: The new observation after applying the action.\n",
        "    - **`reward`**: The reward received for the action.\n",
        "    - **`done`**: A boolean indicating whether the episode has ended.\n",
        "    - **`info`**: A dictionary containing additional information. In this environment, the `info` dictionary includes a `\"score\"` entry that indicates how many pipes the bird has passed since the beginning of the episode.\n",
        "  - **Reset**\n",
        "    The `reset` function restores the environment to its initial state and returns the observation of that state.\n",
        "\n",
        "  - **Render**\n",
        "    The `render` function returns an image of the current state as a NumPy array (`np.array`).\n",
        "\n",
        "  See the `Running the environment` section below for an example of how to use it.\n",
        "\n",
        "- **Customizable Parameters**:\n",
        "  - **`pipe_gap`**: This controls the vertical gap between pipes. The default is set to `80`, providing a moderate challenge.\n",
        "  - **`custom_obs`** and **`custome_observation_map`**: Setting `custom_obs=True` instructs the environment to use a custom `observation_map` specified by the user, rather than the default map. When using a custom observation map, the user must also provide a `preprocess` function compatible with the custom observation map to ensure the observations are correctly processed for the agent.\n",
        "\n",
        "  - **`preprocess`** and **`reward_shaping`**: Optional functions that allow the user to customize how observations and rewards are modified. The `preprocess` function transforms the raw observations according to the specified `observation_map`, while `reward_shaping` allows for custom adjustments to the reward structure, helping to align the environment with the agent’s learning goals.\n",
        "\n",
        "  See the `Custom observation and reward shaping example of usage` section below for an example of usage.\n",
        "\n",
        "\n",
        "\n",
        "\n"
      ],
      "metadata": {
        "id": "odWvOUz5r-Y3"
      }
    },
    {
      "cell_type": "code",
      "source": [
        "# to disable the python game window popup\n",
        "os.environ[\"SDL_VIDEODRIVER\"] = \"dummy\"\n",
        "\n",
        "OBSERVATION_MAP = {0: 'player_y',\n",
        "                   1: \"player_vel\",\n",
        "                   2: \"next_pipe_dist_to_player\",\n",
        "                   3: \"next_pipe_top_y\",\n",
        "                   4: \"next_pipe_bottom_y\",\n",
        "                   5: \"next_next_pipe_dist_to_player\",\n",
        "                   6: \"next_next_pipe_top_y\",\n",
        "                   7: \"next_next_pipe_bottom_y\",\n",
        "}\n",
        "\n",
        "class Game(gym.Env):\n",
        "    def __init__(self, display_screen=False,\n",
        "                 force_fps=True,\n",
        "                 custom_obs=False,\n",
        "                 pipe_gap=80,\n",
        "                 custome_observation_map={},\n",
        "                 preprocess=lambda x: x,\n",
        "                 reward_shaping=lambda x, y, z: x):\n",
        "\n",
        "        os.environ[\"SDL_VIDEODRIVER\"] = \"dummy\"\n",
        "        game = FlappyBird(pipe_gap=pipe_gap)  # define and initiate the environment\n",
        "        self.env = PLE(game, fps=30, display_screen=display_screen,\n",
        "                       force_fps=force_fps)\n",
        "        self.env.init()\n",
        "        # list of actions in the environment\n",
        "        self.actions = self.env.getActionSet()\n",
        "        # length of actions\n",
        "        self.action_space = spaces.Discrete(len(self.actions))\n",
        "        self.custom_obs = custom_obs\n",
        "        self._observation_map = custome_observation_map if custom_obs else OBSERVATION_MAP\n",
        "        self.preprocess = preprocess\n",
        "        self.reward_shaping = reward_shaping\n",
        "        self.score = 0\n",
        "\n",
        "    @property\n",
        "    def observation_space(self):\n",
        "        return spaces.Box(low=0, high=512, shape=(len(self._observation_map),), dtype=int)\n",
        "\n",
        "    def _get_rgb(self):\n",
        "        return self.env.getScreenRGB().transpose(1, 0, 2)\n",
        "\n",
        "    @property\n",
        "    def observation_map(self):\n",
        "        return self._observation_map\n",
        "\n",
        "    def step(self, action):\n",
        "        \"\"\"Take the action chosen and update the reward\"\"\"\n",
        "        reward = self.env.act(self.actions[action])\n",
        "        if reward < 0:\n",
        "          reward = -1\n",
        "\n",
        "        if reward > 0:\n",
        "          self.score += 1\n",
        "        state = self.env.getGameState()\n",
        "        terminal = self.env.game_over()\n",
        "        reward = self.reward_shaping(reward, terminal, env)\n",
        "        info = {'score':self.score}\n",
        "        return self.preprocess(np.array(list(state.values())).astype(int)), reward, terminal, info\n",
        "\n",
        "    def getGameState(self):\n",
        "        '''\n",
        "        PLEenv return gamestate as a dictionary. Returns a modified form\n",
        "        of the gamestate only with the required information to define the state\n",
        "        '''\n",
        "        state = self.env.getGameState()\n",
        "        h_dist = state['next_pipe_dist_to_player']\n",
        "        v_dist = state['next_pipe_bottom_y'] - state['player_y']\n",
        "        vel = state['player_vel']\n",
        "\n",
        "        return ' '.join([str(vel), str(h_dist), str(v_dist)])\n",
        "\n",
        "    def reset(self):\n",
        "        \"\"\"Resets the game to start a new game\"\"\"\n",
        "        self.env.reset_game()\n",
        "        state = self.env.getGameState()\n",
        "        self.score = 0\n",
        "        return self.preprocess(np.array(list(state.values())).astype(int))\n",
        "\n",
        "    def render(self, mode='human'):\n",
        "        \"\"\"Render the game\"\"\"\n",
        "        return self._get_rgb()\n",
        "\n",
        "    def seed(self, seed):\n",
        "        rng = np.random.RandomState(seed)\n",
        "        self.env.rng = rng\n",
        "        self.env.game.rng = self.env.rng\n",
        "\n",
        "        self.env.init()"
      ],
      "metadata": {
        "id": "hEXHvbNYyd8L"
      },
      "execution_count": 4,
      "outputs": []
    },
    {
      "cell_type": "code",
      "source": [
        "env = Game(custom_obs=False)"
      ],
      "metadata": {
        "id": "WRIzH8P-_fZz"
      },
      "execution_count": 5,
      "outputs": []
    },
    {
      "cell_type": "markdown",
      "source": [
        "### Observation space"
      ],
      "metadata": {
        "id": "64PvA8g5_PV1"
      }
    },
    {
      "cell_type": "code",
      "source": [
        "print(f\"observation space: {env.observation_space}\")\n",
        "for feaure, des in env.observation_map.items():\n",
        "  print(f\"feaure: {feaure} -> {des}\")"
      ],
      "metadata": {
        "colab": {
          "base_uri": "https://localhost:8080/"
        },
        "id": "bVz0zDuP_mI6",
        "outputId": "36e5ab0a-67a9-446f-8629-a92a31bb2cec"
      },
      "execution_count": 6,
      "outputs": [
        {
          "output_type": "stream",
          "name": "stdout",
          "text": [
            "observation space: Box(0, 512, (8,), int64)\n",
            "feaure: 0 -> player_y\n",
            "feaure: 1 -> player_vel\n",
            "feaure: 2 -> next_pipe_dist_to_player\n",
            "feaure: 3 -> next_pipe_top_y\n",
            "feaure: 4 -> next_pipe_bottom_y\n",
            "feaure: 5 -> next_next_pipe_dist_to_player\n",
            "feaure: 6 -> next_next_pipe_top_y\n",
            "feaure: 7 -> next_next_pipe_bottom_y\n"
          ]
        }
      ]
    },
    {
      "cell_type": "markdown",
      "source": [
        "In this *Flappy Bird* environment, the `Box` type represents a `Discrete` observation space in OpenAI's Gym, providing the agent with a range of values in each dimension of the environment. Here’s what each part means:\n",
        "\n",
        "* **Box**: This type of space is used to define a `Discrete`  range of values for each observation dimension. Here, it represents an 8-dimensional vector.\n",
        "* **(0, 512)**: Each dimension within this space can take values from 0 to 512, which corresponds to the pixel boundaries of the game.\n",
        "* **(8,)**: This shape indicates that there are 8 distinct variables in the observation vector, each capturing a critical feature of the environment.\n",
        "* **int64**: Each value in the vector is an integer of 64-bit precision.\n",
        "\n",
        "In summary, `Box(0, 512, (8,), int64)` represents an 8-dimensional vector space where each element is an integer from 0 to 512. Each dimension corresponds to a specific aspect of the *Flappy Bird* environment:\n",
        "\n",
        "1. **Player Y Position**: The vertical position of the bird, representing its height on the screen.\n",
        "2. **Player Velocity**: The bird’s current velocity, which impacts its movement and helps determine when to flap.\n",
        "3. **Distance to Next Pipe**: The horizontal distance between the bird and the next pipe, crucial for timing flaps.\n",
        "4. **Next Pipe Top Y Position**: The vertical position of the top of the next pipe, helping the bird gauge the gap.\n",
        "5. **Next Pipe Bottom Y Position**: The vertical position of the bottom of the next pipe, providing further data for navigating the gap.\n",
        "6. **Distance to Next-Next Pipe**: The horizontal distance to the pipe after the next one, giving the bird foresight into upcoming obstacles.\n",
        "7. **Next-Next Pipe Top Y Position**: The vertical position of the top of the pipe after the next one, extending the bird's view of upcoming gaps.\n",
        "8. **Next-Next Pipe Bottom Y Position**: The vertical position of the bottom of the pipe after the next one, for additional planning.\n",
        "\n",
        "Together, these dimensions offer the agent a detailed snapshot of the environment, helping it make decisions based on its position, velocity, and the layout of both current and upcoming obstacles.\n"
      ],
      "metadata": {
        "id": "bQsBJauryXVC"
      }
    },
    {
      "cell_type": "markdown",
      "source": [
        "### Action space"
      ],
      "metadata": {
        "id": "TLuIANMX0JRC"
      }
    },
    {
      "cell_type": "code",
      "source": [
        "env.action_space"
      ],
      "metadata": {
        "colab": {
          "base_uri": "https://localhost:8080/"
        },
        "id": "siDgIRASziZD",
        "outputId": "0565e1ce-1957-45a8-9567-54fa4ad08292"
      },
      "execution_count": 7,
      "outputs": [
        {
          "output_type": "execute_result",
          "data": {
            "text/plain": [
              "Discrete(2)"
            ]
          },
          "metadata": {},
          "execution_count": 7
        }
      ]
    },
    {
      "cell_type": "markdown",
      "source": [
        "In this *Flappy Bird* environment, the `Discrete(2)` action space defines the possible actions the agent can take, using a finite set of discrete values:\n",
        "\n",
        "* **Discrete**: This type of space is used when there are a limited number of distinct actions.\n",
        "* **2**: The number of actions available, represented by values 0 and 1.\n",
        "\n",
        "For *Flappy Bird*, these actions correspond to:\n",
        "  * **0**: Do nothing (the bird continues to fall due to gravity).\n",
        "  * **1**: Flap (the bird moves upward briefly).\n",
        "\n",
        "In summary, `Discrete(2)` defines an action space with two possible actions: allowing the bird to either continue falling or flap to move upward, which is essential for navigating the gaps between pipes.\n"
      ],
      "metadata": {
        "id": "tdPOZw630TUx"
      }
    },
    {
      "cell_type": "markdown",
      "source": [
        "### Rewards\n",
        "\n",
        "*Reward Structure:*\n",
        "\n",
        "\n",
        "\n",
        "*   **Positive Reward**: For each pipe successfully passed, the agent receives a reward of **+1**.\n",
        "*   **Negative Reward**: Upon reaching any terminal state, the agent receives a penalty of **-1**.\n",
        "*   **Zero Reward**: Any other senario the reward is **0**\n",
        "\n",
        "\n"
      ],
      "metadata": {
        "id": "oA95yg2--eXX"
      }
    },
    {
      "cell_type": "markdown",
      "source": [
        "### Running the environmen"
      ],
      "metadata": {
        "id": "sTbzOYOG33sE"
      }
    },
    {
      "cell_type": "code",
      "source": [
        "env = Game()\n",
        "env.seed(42)\n",
        "obs = env.reset()\n",
        "video_filename = '/content/vid.mp4'\n",
        "max_steps = 100\n",
        "# Evaluation\n",
        "with imageio.get_writer(video_filename, fps=24) as video:\n",
        "  obs = env.reset()\n",
        "  done = False\n",
        "  total_reward = 0\n",
        "  for step in range(max_steps):\n",
        "      action = env.action_space.sample()\n",
        "      obs, reward, done, info = env.step(action)\n",
        "      next_obs = obs  # Get agent's position directly from the environment\n",
        "      total_reward += reward\n",
        "      re = env.render()\n",
        "      video.append_data(re)\n",
        "      if done:\n",
        "        score = info['score']\n",
        "        print(\"Sum of rewards =\", total_reward, \", Number of steps=\", step, \"score: \", score)\n",
        "        break\n",
        "embed_mp4(video_filename)"
      ],
      "metadata": {
        "colab": {
          "base_uri": "https://localhost:8080/",
          "height": 519
        },
        "id": "OKOTC3dh38AP",
        "outputId": "bf747459-d3b5-4c7b-e688-f318f710af70"
      },
      "execution_count": 8,
      "outputs": [
        {
          "output_type": "stream",
          "name": "stdout",
          "text": [
            "Sum of rewards = -1.0 , Number of steps= 61 score:  0\n"
          ]
        },
        {
          "output_type": "execute_result",
          "data": {
            "text/plain": [
              "<IPython.core.display.HTML object>"
            ],
            "text/html": [
              "\n",
              "  <video width=\"640\" height=\"480\" controls>\n",
              "    <source src=\"data:video/mp4;base64,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\" type=\"video/mp4\">\n",
              "  Your browser does not support the video tag.\n",
              "  </video>"
            ]
          },
          "metadata": {},
          "execution_count": 8
        }
      ]
    },
    {
      "cell_type": "markdown",
      "source": [
        "### Custom observation and reward shaping example of usage"
      ],
      "metadata": {
        "id": "FA6SrS10_pGo"
      }
    },
    {
      "cell_type": "code",
      "source": [
        "custom_obs_mapping = {0: \"average\",\n",
        "                      1: 'sum'}\n",
        "\n",
        "# meaningless preprocess method that average and sums all of the original features\n",
        "preprocess = lambda x: np.array([np.mean(x), np.sum(x)])\n",
        "\n",
        "# meaningless reward shaping method that added 1 to each original reward\n",
        "reward_shaping = lambda x, y, z: x+1\n",
        "\n",
        "env = Game(custom_obs=True,\n",
        "           custome_observation_map=custom_obs_mapping,\n",
        "           preprocess=preprocess,\n",
        "           reward_shaping=reward_shaping)\n",
        "env.seed(42)\n",
        "obs = env.reset()\n",
        "\n",
        "print(f\"observation space: {env.observation_space}\")\n",
        "for feaure, des in env.observation_map.items():\n",
        "  print(f\"feaure: {feaure} -> {des}\")\n",
        "\n",
        "print(f\"reset: {obs}\")\n",
        "print(\"#\"*100, end=\"\\n\\n\")\n",
        "video_filename = '/content/vid.mp4'\n",
        "max_steps = 100\n",
        "# Evaluation\n",
        "with imageio.get_writer(video_filename, fps=24) as video:\n",
        "  obs = env.reset()\n",
        "  done = False\n",
        "  total_reward = 0\n",
        "  for step in range(max_steps):\n",
        "      action = env.action_space.sample()\n",
        "      obs, reward, done, info = env.step(action)\n",
        "      next_obs = obs  # Get agent's position directly from the environment\n",
        "      total_reward += reward\n",
        "      re = env.render()\n",
        "      video.append_data(re)\n",
        "      if done:\n",
        "        score = info['score']\n",
        "        print(\"Sum of rewards =\", total_reward, \", Number of steps=\", step, \"score: \", score)\n",
        "        break\n",
        "embed_mp4(video_filename)"
      ],
      "metadata": {
        "colab": {
          "base_uri": "https://localhost:8080/",
          "height": 629
        },
        "id": "3ejzOhgJAAcV",
        "outputId": "433a4a15-e04c-41c1-bfbf-5d43113b0030"
      },
      "execution_count": 9,
      "outputs": [
        {
          "output_type": "stream",
          "name": "stdout",
          "text": [
            "observation space: Box(0, 512, (2,), int64)\n",
            "feaure: 0 -> average\n",
            "feaure: 1 -> sum\n",
            "reset: [ 197.5 1580. ]\n",
            "####################################################################################################\n",
            "\n",
            "Sum of rewards = 57.0 , Number of steps= 57 score:  0\n"
          ]
        },
        {
          "output_type": "execute_result",
          "data": {
            "text/plain": [
              "<IPython.core.display.HTML object>"
            ],
            "text/html": [
              "\n",
              "  <video width=\"640\" height=\"480\" controls>\n",
              "    <source src=\"data:video/mp4;base64,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\" type=\"video/mp4\">\n",
              "  Your browser does not support the video tag.\n",
              "  </video>"
            ]
          },
          "metadata": {},
          "execution_count": 9
        }
      ]
    },
    {
      "cell_type": "markdown",
      "source": [
        "# Your Work begins here"
      ],
      "metadata": {
        "id": "BSzUW-ufhISi"
      }
    },
    {
      "cell_type": "markdown",
      "source": [
        "## Preprocess"
      ],
      "metadata": {
        "id": "NV8nQ-G379Ek"
      }
    },
    {
      "cell_type": "markdown",
      "source": [
        "**Define the `preprocess` Method**\n",
        "\n",
        "- Create a function called `preprocess` that takes an observation as input.\n",
        "- The purpose of this function is to transform the raw observation into a format that optimizes learning for the agent. Use your creativity to design an effective preprocessing strategy for this task.\n",
        "\n",
        "**Suggested Approaches:**\n",
        "- **Normalization or Scaling**: Adjust observation values to a common range, such as $0$ to $1$ or $0$ to $N$, to improve stability in the learning process.\n",
        "- **Feature Extraction**: Emphasize key features in the observation that are crucial for achieving the environment's goals.\n",
        "- **Dimensionality Reduction**: Simplify the observation by removing or combining less significant parts to streamline learning and reduce complexity.\n",
        "\n",
        "**Compression and Q-Table Size**\n",
        "- Reducing the complexity of the observation, through techniques like scaling, normalization, or removing redundant features, effectively compresses the data. This compression simplifies the agent’s perception of the environment, helping it focus on the most relevant information.\n",
        "- In discrete environments, reducing observation dimensionality directly impacts the size of the Q-table. By compressing the observation space, you decrease the number of possible states, which makes the Q-table smaller and easier to manage. This reduction in Q-table size not only conserves memory but can also enhance learning efficiency.\n",
        "  \n",
        "Use these ideas to explain how your preprocessing strategy compresses the observation space and helps the agent handle the environment more effectively.\n",
        "\n",
        "**Rationalize Your Preprocessing Choices**\n",
        "\n",
        "- Include a brief explanation of your preprocessing choices. Explain why you believe this approach will improve the agent's learning efficiency and performance.\n",
        "- Discuss how these adjustments make the observations more interpretable or manageable for the learning algorithm.\n",
        "\n",
        "**Important**\n",
        "- The maximum value on the **Vertical** axis is **512**.\n",
        "- The maximum value on the **Horizontal** axis is **288**.\n"
      ],
      "metadata": {
        "id": "34GXgJztd6QZ"
      }
    },
    {
      "cell_type": "code",
      "source": [
        "custome_observation_map = {} # assing each action with a description of the feature meaning\n",
        "def preprocess(obs):\n",
        "  \"\"\"\n",
        "  insert your preprocessing code here\n",
        "  \"\"\"\n",
        "  state_repr = []\n",
        "  for i, (feaure, des) in enumerate(env.observation_map.items()):\n",
        "    state_repr.append(obs[i])\n",
        "    print(f\"feaure: {feaure} -> {des}\")\n",
        "  return obs"
      ],
      "metadata": {
        "id": "LPHpNwt_8AAx"
      },
      "execution_count": null,
      "outputs": []
    },
    {
      "cell_type": "markdown",
      "source": [
        "## Reward shaping"
      ],
      "metadata": {
        "id": "562OuNkIeumH"
      }
    },
    {
      "cell_type": "markdown",
      "source": [
        "### Define a Reward Shaping Strategy\n",
        "\n",
        "**Reward shaping** means adjusting the rewards given to the agent to encourage desired actions and help it learn faster. In *Flappy Bird*, the goal is to create rewards that guide the bird to survive longer and avoid hitting pipes.\n",
        "\n",
        "**Steps for Reward Shaping:**\n",
        "\n",
        "1. **Identify Desired Behaviors**:\n",
        "   - Decide which behaviors you want to encourage. For example, flapping at the right time to pass through pipes or avoiding unnecessary flaps could be rewarded.\n",
        "\n",
        "2. **Design Rewards**:\n",
        "   - Use rewards that motivate the bird to take helpful actions without distracting from the main goal (staying alive). Here are some ideas:\n",
        "     - **Survival Reward**: Give a small reward for each step the bird survives.\n",
        "     - **Penalty for Hitting Pipes**: Apply a negative reward (penalty) when the bird crashes into a pipe.\n",
        "    - **Passing Through Pipes**: Provide a positive reward each time the bird successfully passes through a pipe.\n",
        "\n",
        "\n",
        "3. **Explain Your Reward Choices**:\n",
        "   - Add an explanation for your reward design. Why did you decide to reward certain actions or apply penalties?\n",
        "   - Describe how your rewards help the bird focus on staying alive and navigating pipes effectively.\n",
        "   - Provide an example demonstrating the impact of your reward shaping logic, ideally by comparing performance graphs with and without reward shaping.\n",
        "\n",
        "4. **Avoid Over-Shaping**:\n",
        "   - Avoid giving too many rewards for minor actions, as it could lead the bird to focus on short-term rewards instead of the main goal. Aim for a balance where the bird gets enough guidance without relying on intermediate rewards.\n",
        "\n",
        "**Q-Learning and Value Convergence**:\n",
        "   - Remember, shaping rewards impacts **Q-values** (the expected value of actions). When rewards are well-designed, the bird’s Q-values will better reflect valuable actions, helping it make smarter choices over time.\n",
        "\n",
        "Use these tips to develop a reward strategy that encourages the bird to navigate through pipes effectively while improving its learning.\n"
      ],
      "metadata": {
        "id": "zOnXqApDe7tg"
      }
    },
    {
      "cell_type": "code",
      "source": [
        "def reward_shaping(reward, terminal):\n",
        "  \"\"\"\n",
        "  insert your preprocessing code here\n",
        "  \"\"\"\n",
        "  return reward"
      ],
      "metadata": {
        "id": "bbGZVsX3f0m5"
      },
      "execution_count": null,
      "outputs": []
    },
    {
      "cell_type": "markdown",
      "source": [
        "## Implementation of Learning Agents"
      ],
      "metadata": {
        "id": "uRLgerJnhmXA"
      }
    },
    {
      "cell_type": "markdown",
      "source": [
        "Abstract Class for Implementing an On-Policy Agent\n",
        "\n",
        "Below is an abstract class to serve as a foundation for implementing an on-policy agent. Derive your agent from this class and implement the specific logic for your agent. Note that different agents may require additional parameters or functions to support their unique features and learning mechanisms.\n"
      ],
      "metadata": {
        "id": "Yev0iBqsjZVs"
      }
    },
    {
      "cell_type": "code",
      "source": [
        "from abc import ABC, abstractmethod\n",
        "\n",
        "class OnPolicyAgent(ABC):\n",
        "    def __init__(self, action_space, observation_space, gamma, learning_rate):\n",
        "        \"\"\"\n",
        "        Initializes the on-policy RL agent.\n",
        "        You can add more parameters\n",
        "        Parameters:\n",
        "        - action_space: The action space of the environment\n",
        "        - observation_space: The observation space of the environment\n",
        "        - gamma: Discount factor for future rewards\n",
        "        - learning_rate: Learning rate for policy updates\n",
        "        \"\"\"\n",
        "        self.action_space = action_space\n",
        "        self.observation_space = observation_space\n",
        "        self.gamma = gamma\n",
        "        self.learning_rate = learning_rate\n",
        "        self.policy = None  # Placeholder for policy (to be implemented in subclasses)\n",
        "\n",
        "    @abstractmethod\n",
        "    def select_action(self, observation, deterministic=False):\n",
        "        \"\"\"\n",
        "        Select an action based on the current policy.\n",
        "\n",
        "        Parameters:\n",
        "        - observation: Current state observation from the environment\n",
        "        -deterministic: Flag indicating whether to use a deterministic policy (default is False)\n",
        "        Returns:\n",
        "        - action: Chosen action based on the policy\n",
        "        \"\"\"\n",
        "        pass\n",
        "\n",
        "    @abstractmethod\n",
        "    def update_policy(self, transition):\n",
        "        \"\"\"\n",
        "        Update the policy based on the current transition.\n",
        "\n",
        "        Parameters:\n",
        "        - transition: Data collected from interactions with the environment (tuple of zero or more values such as acion, reward etc...)\n",
        "        \"\"\"\n",
        "        pass\n",
        "\n",
        "    @abstractmethod\n",
        "    def train(self, env, num_episodes, log_every):\n",
        "        \"\"\"\n",
        "        Train the agent over a specified number of episodes.\n",
        "\n",
        "        Parameters:\n",
        "        - env: The environment to train in\n",
        "        - num_episodes: Number of training episodes\n",
        "        \"\"\"\n",
        "        pass\n",
        "\n",
        "    @abstractmethod\n",
        "    def save_policy(self, file_path):\n",
        "        \"\"\"\n",
        "        Save the current policy to a file.\n",
        "\n",
        "        Parameters:\n",
        "        - file_path: Path to the file where the policy should be saved\n",
        "        \"\"\"\n",
        "        pass\n",
        "\n",
        "    @abstractmethod\n",
        "    def load_policy(self, file_path):\n",
        "        \"\"\"\n",
        "        Load a policy from a file.\n",
        "\n",
        "        Parameters:\n",
        "        - file_path: Path to the file from which the policy should be loaded\n",
        "        \"\"\"\n",
        "        pass\n",
        "\n",
        "    @abstractmethod\n",
        "    def run_policy(self, env):\n",
        "        \"\"\"\n",
        "        Run the loaded policy in the environment for one episode.\n",
        "\n",
        "        Parameters:\n",
        "        - env: The environment in which to run the policy\n",
        "\n",
        "        Returns:\n",
        "        - total_reward: Total reward accumulated in the episode\n",
        "        \"\"\"\n",
        "        pass\n"
      ],
      "metadata": {
        "id": "bq3JtejTh57r"
      },
      "execution_count": null,
      "outputs": []
    },
    {
      "cell_type": "markdown",
      "source": [
        "## Training"
      ],
      "metadata": {
        "id": "L4nG1NT6kLzQ"
      }
    },
    {
      "cell_type": "markdown",
      "source": [
        "#### Experimentation Instructions\n",
        "\n",
        "In this section, you will conduct a series of experiments to solve the environment using your on-policy agent. Follow these guidelines for a clear and comprehensive presentation of your work:\n",
        "\n",
        "1. **Design and Run Experiments**:\n",
        "   - Perform at least **5 distinct experiments** with your agent, including:\n",
        "     - **2 unsuccessful experiments** where the agent fails to learn the environment (reaching a score below the target).\n",
        "     - **1 successful experiment** where the agent achieves a score of **10** or higher. (Remember the score is define by the amount of pipes the agent has passed)\n",
        "\n",
        "   - *Note*: In practice, you are expected to try many configurations to observe various outcomes, even beyond these 3 experiments.\n",
        "\n",
        "2. **Provide Detailed Summaries**:\n",
        "   - For each experiment, include:\n",
        "     - **Graphs** that illustrate the training process, such as reward progression, steps, score, and  any other relevant metrics (there is many more metrics that we can learn from).\n",
        "     - **Explanations of Hyperparameters**: Clearly describe the configuration of hyperparameters chosen for each experiment, and the reasoning behind these choices.\n",
        "     - **Preprocessing and Reward Shaping**: Explain any data preprocessing or reward shaping techniques applied, along with the motivation for these techniques.\n",
        "\n",
        "3. **Analyze and Reflect**:\n",
        "   - **Result Analysis**: Analyze each experiment's outcome, focusing on why the agent may have succeeded or failed based on your configurations.\n",
        "   - **Insights and Deductions**: Draw insights from each experiment, noting what worked and what didn’t. Use these insights to refine your understanding of the environment and agent performance.\n",
        "\n",
        "4. **Final Report**:\n",
        "   - **Synthesize Findings**: Compile all observations, insights, and analysis from your experiments into a final report. This report should showcase your learnings and demonstrate a deep understanding of the experimentation process.\n",
        "   - **Emphasis on Analysis**: The analysis of your results and the conclusions drawn are the most critical aspects of this exercise. Dedicate ample attention to this section, as it will reflect your ability to interpret and understand the agent’s learning process.\n",
        "\n",
        "**Remember**: The goal of this exercise is to experiment, learn, and iterate. Document your process thoroughly, as this will form the foundation of your report.\n"
      ],
      "metadata": {
        "id": "c7SCgp8wkkQ5"
      }
    },
    {
      "cell_type": "code",
      "source": [
        "class TrivialPolicy(OnPolicyAgent):\n",
        "    def __init__(self, action_space, observation_space, gamma, learning_rate):\n",
        "        \"\"\"\n",
        "        Initializes the on-policy RL agent.\n",
        "        You can add more parameters\n",
        "        Parameters:\n",
        "        - action_space: The action space of the environment\n",
        "        - observation_space: The observation space of the environment\n",
        "        - gamma: Discount factor for future rewards\n",
        "        - learning_rate: Learning rate for policy updates\n",
        "        \"\"\"\n",
        "        # Initiate parent class with super.__init__() style\n",
        "        self.policy = None  # Placeholder for policy (to be implemented in subclasses)\n",
        "\n",
        "    def select_action(self, observation, deterministic=False):\n",
        "        \"\"\"\n",
        "        Select an action based on the current policy.\n",
        "\n",
        "        Parameters:\n",
        "        - observation: Current state observation from the environment\n",
        "        -deterministic: Flag indicating whether to use a deterministic policy (default is False)\n",
        "        Returns:\n",
        "        - action: Chosen action based on the policy\n",
        "        \"\"\"\n",
        "        pass\n",
        "\n",
        "    def update_policy(self, transition):\n",
        "        \"\"\"\n",
        "        Update the policy based on the current transition.\n",
        "\n",
        "        Parameters:\n",
        "        - transition: Data collected from interactions with the environment (tuple of zero or more values such as acion, reward etc...)\n",
        "        \"\"\"\n",
        "        pass\n",
        "\n",
        "    def train(self, env, num_episodes, log_every):\n",
        "        \"\"\"\n",
        "        Train the agent over a specified number of episodes.\n",
        "\n",
        "        Parameters:\n",
        "        - env: The environment to train in\n",
        "        - num_episodes: Number of training episodes\n",
        "\n",
        "        Here we need to invoke (in a loop)\n",
        "          * `select_action`\n",
        "          * get the reward somehow\n",
        "          * `update_policy`\n",
        "        \"\"\"\n",
        "        pass\n",
        "\n",
        "    def save_policy(self, file_path):\n",
        "        \"\"\"\n",
        "        Save the current policy to a file.\n",
        "\n",
        "        Parameters:\n",
        "        - file_path: Path to the file where the policy should be saved\n",
        "        \"\"\"\n",
        "        pass\n",
        "\n",
        "    def load_policy(self, file_path):\n",
        "        \"\"\"\n",
        "        Load a policy from a file.\n",
        "\n",
        "        Parameters:\n",
        "        - file_path: Path to the file from which the policy should be loaded\n",
        "        \"\"\"\n",
        "        pass\n",
        "\n",
        "    def run_policy(self, env):\n",
        "        \"\"\"\n",
        "        Run the loaded policy in the environment for one episode.\n",
        "\n",
        "        Parameters:\n",
        "        - env: The environment in which to run the policy\n",
        "\n",
        "        Returns:\n",
        "        - total_reward: Total reward accumulated in the episode\n",
        "        \"\"\"\n",
        "        pass\n"
      ],
      "metadata": {
        "id": "VY9jRQEcgiyw"
      },
      "execution_count": null,
      "outputs": []
    },
    {
      "cell_type": "code",
      "source": [
        "env = Game(custom_obs=True, preprocess=preprocess, reward_shaping=reward_shaping, custome_observation_map=custome_observation_map)\n",
        "\"\"\"\n",
        "Insert you experiment code here\n",
        "\n",
        "Consider creating a dictionary for {Policy_class (class obs): file_name (str)}\n",
        "\n",
        "policy_dict = {\n",
        "  TrivialPolicy: 'trivial_policy.txt'\n",
        "}\n",
        "\n",
        "e.g.\n",
        "trivial_policy = TrivialPolicy()\n",
        "trivial_policy.train(env)\n",
        "trivial_policy.save_policy() (e.g. use the dict)\n",
        "\n",
        "\n",
        "for policy, policy_file in policy_dict.items():\n",
        "    policy = policy()\n",
        "    policy.train(env)\n",
        "    policy.save_policy(policy_file)\n",
        "\"\"\""
      ],
      "metadata": {
        "id": "PHfYUscjkThj",
        "colab": {
          "base_uri": "https://localhost:8080/",
          "height": 36
        },
        "outputId": "903bc3ec-4efb-4167-c2cb-40ac544f8c27"
      },
      "execution_count": null,
      "outputs": [
        {
          "output_type": "execute_result",
          "data": {
            "text/plain": [
              "'\\nInsert you experiment code here\\n'"
            ],
            "application/vnd.google.colaboratory.intrinsic+json": {
              "type": "string"
            }
          },
          "metadata": {},
          "execution_count": 49
        }
      ]
    },
    {
      "cell_type": "markdown",
      "source": [
        "## Validation"
      ],
      "metadata": {
        "id": "Vk9cklTikbu_"
      }
    },
    {
      "cell_type": "markdown",
      "source": [
        "#### Validation Section\n",
        "\n",
        "In this section, you will validate your agent’s performance using the best-performing configuration identified in the experimentation phase. This validation step should be less exhaustive than the experimentation section but should provide sufficient evidence of your agent's consistency and stability.\n",
        "\n",
        "1. **Run Validation Trials**:\n",
        "   - Using the chosen configuration, run the agent in the environment for **multiple trials** (e.g., 5-10 episodes) to test its reliability.\n",
        "   - Observe the agent's performance across these trials to confirm whether it consistently achieves or exceeds the target score of 10.\n",
        "\n",
        "2. **Provide Key Summaries**:\n",
        "   - **Performance Metrics**: Summarize the agent’s performance with key metrics such as average score, highest score, and variance across trials.\n",
        "   - **Graphs** (Optional): Include basic graphs showing score progression or any other relevant metric, if they provide additional insight into the agent's stability.\n",
        "\n",
        "3. **Brief Analysis**:\n",
        "   - Reflect on the agent's performance in validation. Note any patterns or inconsistencies and provide a short explanation of how these results align (or differ) from your expectations based on the experimentation phase.\n",
        "\n",
        "*Note*: This validation section should confirm and strengthen the results of your experimentation, focusing on reliability and consistency rather than extensive analysis.\n",
        "\n",
        "*Note*: Store the agent's policy to files since you asked to provide aditional notbook that loads the agent policy\n"
      ],
      "metadata": {
        "id": "-4Z_jvJErVsQ"
      }
    },
    {
      "cell_type": "code",
      "source": [
        "\"\"\"\n",
        "Insert you validation code here\n",
        "\n",
        "Iterate over (Policy_name, policy_filename)\n",
        "  * trivial_policy = TrivialPolicy()\n",
        "  * trivial_policy.load_policy('trivial_policy.txt')\n",
        "  * trivial_policy.run_policy()\n",
        "\n",
        "\n",
        "e.g. consider\n",
        "\n",
        "scores list?\n",
        "for policy, policy_file in policy_dict.items():\n",
        "    policy = policy()\n",
        "    policy.load_policy(policy_file)\n",
        "    policy.run_policy()\n",
        "    # save score of experiment\n",
        "\n",
        "\n",
        "# Select best policy and present statistics?\n",
        "\"\"\""
      ],
      "metadata": {
        "id": "65TXpKkgkeic",
        "colab": {
          "base_uri": "https://localhost:8080/",
          "height": 36
        },
        "outputId": "75bd1ec9-3cc0-423a-d6bc-a44643a73351"
      },
      "execution_count": 12,
      "outputs": [
        {
          "output_type": "execute_result",
          "data": {
            "text/plain": [
              "'\\nInsert you validation code here\\n\\nIterate over (Policy_name, policy_filename)\\n'"
            ],
            "application/vnd.google.colaboratory.intrinsic+json": {
              "type": "string"
            }
          },
          "metadata": {},
          "execution_count": 12
        }
      ]
    },
    {
      "cell_type": "code",
      "source": [],
      "metadata": {
        "id": "P0IEb1X-h_Wc"
      },
      "execution_count": null,
      "outputs": []
    }
  ]
}