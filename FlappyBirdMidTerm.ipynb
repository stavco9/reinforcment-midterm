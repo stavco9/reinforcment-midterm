{
  "nbformat": 4,
  "nbformat_minor": 0,
  "metadata": {
    "colab": {
      "provenance": [],
      "collapsed_sections": [
        "9PsfB8bB6EVL",
        "-4Z_jvJErVsQ"
      ]
    },
    "kernelspec": {
      "name": "python3",
      "display_name": "Python 3"
    },
    "language_info": {
      "name": "python"
    }
  },
  "cells": [
    {
      "cell_type": "markdown",
      "source": [
        "## Installs"
      ],
      "metadata": {
        "id": "LzEyrrIkyiik"
      }
    },
    {
      "cell_type": "markdown",
      "source": [
        "## Imports"
      ],
      "metadata": {
        "id": "s5hzkeZvyYk1"
      }
    },
    {
      "cell_type": "code",
      "source": [
        "!git clone https://github.com/ntasfi/PyGame-Learning-Environment\n",
        "!pip install gym_ple\n",
        "!pip install -e ./PyGame-Learning-Environment\n",
        "!pip install pyvirtualdisplay\n",
        "!sudo apt-get install -y xvfb ffmpeg freeglut3-dev"
      ],
      "metadata": {
        "id": "7vj5IGwnxwZ1",
        "colab": {
          "base_uri": "https://localhost:8080/"
        },
        "outputId": "3c8385a1-e281-4a3d-f2f5-4de901770065"
      },
      "execution_count": null,
      "outputs": [
        {
          "output_type": "stream",
          "name": "stdout",
          "text": [
            "fatal: destination path 'PyGame-Learning-Environment' already exists and is not an empty directory.\n",
            "Requirement already satisfied: gym_ple in /usr/local/lib/python3.10/dist-packages (0.3)\n",
            "Obtaining file:///content/PyGame-Learning-Environment\n",
            "  Preparing metadata (setup.py) ... \u001b[?25l\u001b[?25hdone\n",
            "Requirement already satisfied: numpy in /usr/local/lib/python3.10/dist-packages (from ple==0.0.1) (1.26.4)\n",
            "Requirement already satisfied: Pillow in /usr/local/lib/python3.10/dist-packages (from ple==0.0.1) (11.0.0)\n",
            "Installing collected packages: ple\n",
            "  Attempting uninstall: ple\n",
            "    Found existing installation: ple 0.0.1\n",
            "    Uninstalling ple-0.0.1:\n",
            "      Successfully uninstalled ple-0.0.1\n",
            "  Running setup.py develop for ple\n",
            "Successfully installed ple-0.0.1\n",
            "Requirement already satisfied: pyvirtualdisplay in /usr/local/lib/python3.10/dist-packages (3.0)\n",
            "Reading package lists... Done\n",
            "Building dependency tree... Done\n",
            "Reading state information... Done\n",
            "freeglut3-dev is already the newest version (2.8.1-6).\n",
            "ffmpeg is already the newest version (7:4.4.2-0ubuntu0.22.04.1).\n",
            "xvfb is already the newest version (2:21.1.4-2ubuntu1.7~22.04.12).\n",
            "0 upgraded, 0 newly installed, 0 to remove and 49 not upgraded.\n"
          ]
        }
      ]
    },
    {
      "cell_type": "code",
      "source": [
        "import sys\n",
        "sys.path.append('/content/PyGame-Learning-Environment')\n",
        "from ple.games.flappybird import FlappyBird\n",
        "from ple import PLE\n",
        "from gym import spaces\n",
        "import IPython\n",
        "import numpy as np\n",
        "import gym\n",
        "import os\n",
        "import pyvirtualdisplay\n",
        "import base64\n",
        "import warnings\n",
        "import imageio\n",
        "from abc import ABC, abstractmethod\n",
        "warnings.filterwarnings(\"ignore\")\n"
      ],
      "metadata": {
        "id": "gyVRgQEU4_M_"
      },
      "execution_count": null,
      "outputs": []
    },
    {
      "cell_type": "markdown",
      "source": [
        "## Utility function to display episode"
      ],
      "metadata": {
        "id": "9PsfB8bB6EVL"
      }
    },
    {
      "cell_type": "code",
      "source": [
        "def embed_mp4(filename):\n",
        "  \"\"\"Embeds an mp4 file in the notebook.\"\"\"\n",
        "  video = open(filename,'rb').read()\n",
        "  b64 = base64.b64encode(video)\n",
        "  tag = '''\n",
        "  <video width=\"640\" height=\"480\" controls>\n",
        "    <source src=\"data:video/mp4;base64,{0}\" type=\"video/mp4\">\n",
        "  Your browser does not support the video tag.\n",
        "  </video>'''.format(b64.decode())\n",
        "\n",
        "  return IPython.display.HTML(tag)\n",
        "display = pyvirtualdisplay.Display(visible=0, size=(1400, 900)).start()"
      ],
      "metadata": {
        "id": "h-jaUHEU6Dau"
      },
      "execution_count": null,
      "outputs": []
    },
    {
      "cell_type": "markdown",
      "source": [
        "## Environment"
      ],
      "metadata": {
        "id": "9mx2jFonhEun"
      }
    },
    {
      "cell_type": "markdown",
      "source": [
        "### Environment Summary\n",
        "\n",
        "This environment simulates the *Flappy Bird* game, where the agent controls the bird’s vertical position to navigate through gaps in pipes. Built on OpenAI’s `gym.Env` class, the environment allows interaction through standard functions like `step`, `reset`, and `render`.\n",
        "\n",
        "**Key Components**\n",
        "\n",
        "- **Observation Space**: The observation space includes 8 integer values, each representing a different aspect of the game state. These include:\n",
        "  - `\"player_y\"`: The bird's vertical position.\n",
        "  - `\"player_vel\"`: The bird's vertical velocity.\n",
        "  - `\"next_pipe_dist_to_player\"`: Horizontal distance to the next pipe.\n",
        "  - Additional features: Positions of the top and bottom of the next two pipes, enabling the agent to anticipate upcoming gaps.\n",
        "\n",
        "- **Action Space**: This is a discrete space with two actions:\n",
        "  - `0`: No flap (bird falls due to gravity).\n",
        "  - `1`: Flap (bird moves upward).\n",
        "- **Using the Environment**\n",
        "\n",
        "  - **Step:**\n",
        "    The `step` function returns four parameters: `obs`, `reward`, `done`, and `info`.\n",
        "\n",
        "    - **`obs`**: The new observation after applying the action.\n",
        "    - **`reward`**: The reward received for the action.\n",
        "    - **`done`**: A boolean indicating whether the episode has ended.\n",
        "    - **`info`**: A dictionary containing additional information. In this environment, the `info` dictionary includes a `\"score\"` entry that indicates how many pipes the bird has passed since the beginning of the episode.\n",
        "  - **Reset**\n",
        "    The `reset` function restores the environment to its initial state and returns the observation of that state.\n",
        "\n",
        "  - **Render**\n",
        "    The `render` function returns an image of the current state as a NumPy array (`np.array`).\n",
        "\n",
        "  See the `Running the environment` section below for an example of how to use it.\n",
        "\n",
        "- **Customizable Parameters**:\n",
        "  - **`pipe_gap`**: This controls the vertical gap between pipes. The default is set to `80`, providing a moderate challenge.\n",
        "  - **`custom_obs`** and **`custome_observation_map`**: Setting `custom_obs=True` instructs the environment to use a custom `observation_map` specified by the user, rather than the default map. When using a custom observation map, the user must also provide a `preprocess` function compatible with the custom observation map to ensure the observations are correctly processed for the agent.\n",
        "\n",
        "  - **`preprocess`** and **`reward_shaping`**: Optional functions that allow the user to customize how observations and rewards are modified. The `preprocess` function transforms the raw observations according to the specified `observation_map`, while `reward_shaping` allows for custom adjustments to the reward structure, helping to align the environment with the agent’s learning goals.\n",
        "\n",
        "  See the `Custom observation and reward shaping example of usage` section below for an example of usage.\n",
        "\n",
        "\n",
        "\n",
        "\n"
      ],
      "metadata": {
        "id": "odWvOUz5r-Y3"
      }
    },
    {
      "cell_type": "code",
      "source": [
        "# to disable the python game window popup\n",
        "os.environ[\"SDL_VIDEODRIVER\"] = \"dummy\"\n",
        "\n",
        "OBSERVATION_MAP = {0: 'player_y',\n",
        "                   1: \"player_vel\",\n",
        "                   2: \"next_pipe_dist_to_player\",\n",
        "                   3: \"next_pipe_top_y\",\n",
        "                   4: \"next_pipe_bottom_y\",\n",
        "                   5: \"next_next_pipe_dist_to_player\",\n",
        "                   6: \"next_next_pipe_top_y\",\n",
        "                   7: \"next_next_pipe_bottom_y\",\n",
        "}\n",
        "\n",
        "class Game(gym.Env):\n",
        "    def __init__(self, display_screen=False,\n",
        "                 force_fps=True,\n",
        "                 custom_obs=False,\n",
        "                 pipe_gap=80,\n",
        "                 custome_observation_map={},\n",
        "                 preprocess=lambda x: x,\n",
        "                 reward_shaping=lambda x, y, z: x):\n",
        "\n",
        "        os.environ[\"SDL_VIDEODRIVER\"] = \"dummy\"\n",
        "        game = FlappyBird(pipe_gap=pipe_gap)  # define and initiate the environment\n",
        "        self.env = PLE(game, fps=30, display_screen=display_screen,\n",
        "                       force_fps=force_fps)\n",
        "        self.env.init()\n",
        "        # list of actions in the environment\n",
        "        self.actions = self.env.getActionSet()\n",
        "        # length of actions\n",
        "        self.action_space = spaces.Discrete(len(self.actions))\n",
        "        self.custom_obs = custom_obs\n",
        "        self._observation_map = custome_observation_map if custom_obs else OBSERVATION_MAP\n",
        "        self.preprocess = preprocess\n",
        "        self.reward_shaping = reward_shaping\n",
        "        self.score = 0\n",
        "\n",
        "    @property\n",
        "    def observation_space(self):\n",
        "        return spaces.Box(low=0, high=512, shape=(len(self._observation_map),), dtype=int)\n",
        "\n",
        "    def _get_rgb(self):\n",
        "        return self.env.getScreenRGB().transpose(1, 0, 2)\n",
        "\n",
        "    @property\n",
        "    def observation_map(self):\n",
        "        return self._observation_map\n",
        "\n",
        "    def step(self, action):\n",
        "        \"\"\"Take the action chosen and update the reward\"\"\"\n",
        "        reward = self.env.act(self.actions[action])\n",
        "        if reward < 0:\n",
        "          reward = -1\n",
        "\n",
        "        if reward > 0:\n",
        "          self.score += 1\n",
        "        state = self.env.getGameState()\n",
        "        terminal = self.env.game_over()\n",
        "        reward = self.reward_shaping(reward, terminal, env)\n",
        "        info = {'score':self.score}\n",
        "        return self.preprocess(np.array(list(state.values())).astype(int)), reward, terminal, info\n",
        "\n",
        "    def getGameState(self):\n",
        "        '''\n",
        "        PLEenv return gamestate as a dictionary. Returns a modified form\n",
        "        of the gamestate only with the required information to define the state\n",
        "        '''\n",
        "        state = self.env.getGameState()\n",
        "        h_dist = state['next_pipe_dist_to_player']\n",
        "        v_dist = state['next_pipe_bottom_y'] - state['player_y']\n",
        "        vel = state['player_vel']\n",
        "\n",
        "        return ' '.join([str(vel), str(h_dist), str(v_dist)])\n",
        "\n",
        "    def reset(self):\n",
        "        \"\"\"Resets the game to start a new game\"\"\"\n",
        "        self.env.reset_game()\n",
        "        state = self.env.getGameState()\n",
        "        self.score = 0\n",
        "        return self.preprocess(np.array(list(state.values())).astype(int))\n",
        "\n",
        "    def render(self, mode='human'):\n",
        "        \"\"\"Render the game\"\"\"\n",
        "        return self._get_rgb()\n",
        "\n",
        "    def seed(self, seed):\n",
        "        rng = np.random.RandomState(seed)\n",
        "        self.env.rng = rng\n",
        "        self.env.game.rng = self.env.rng\n",
        "\n",
        "        self.env.init()"
      ],
      "metadata": {
        "id": "hEXHvbNYyd8L"
      },
      "execution_count": null,
      "outputs": []
    },
    {
      "cell_type": "code",
      "source": [
        "env = Game(custom_obs=False)"
      ],
      "metadata": {
        "id": "WRIzH8P-_fZz"
      },
      "execution_count": null,
      "outputs": []
    },
    {
      "cell_type": "markdown",
      "source": [
        "### Observation space"
      ],
      "metadata": {
        "id": "64PvA8g5_PV1"
      }
    },
    {
      "cell_type": "code",
      "source": [
        "print(f\"observation space: {env.observation_space}\")\n",
        "for feaure, des in env.observation_map.items():\n",
        "  print(f\"feaure: {feaure} -> {des}\")"
      ],
      "metadata": {
        "colab": {
          "base_uri": "https://localhost:8080/"
        },
        "id": "bVz0zDuP_mI6",
        "outputId": "a35e3693-6bd1-49fd-e4c4-ce23f4005140"
      },
      "execution_count": null,
      "outputs": [
        {
          "output_type": "stream",
          "name": "stdout",
          "text": [
            "observation space: Box(0, 512, (8,), int64)\n",
            "feaure: 0 -> player_y\n",
            "feaure: 1 -> player_vel\n",
            "feaure: 2 -> next_pipe_dist_to_player\n",
            "feaure: 3 -> next_pipe_top_y\n",
            "feaure: 4 -> next_pipe_bottom_y\n",
            "feaure: 5 -> next_next_pipe_dist_to_player\n",
            "feaure: 6 -> next_next_pipe_top_y\n",
            "feaure: 7 -> next_next_pipe_bottom_y\n"
          ]
        }
      ]
    },
    {
      "cell_type": "markdown",
      "source": [
        "In this *Flappy Bird* environment, the `Box` type represents a `Discrete` observation space in OpenAI's Gym, providing the agent with a range of values in each dimension of the environment. Here’s what each part means:\n",
        "\n",
        "* **Box**: This type of space is used to define a `Discrete`  range of values for each observation dimension. Here, it represents an 8-dimensional vector.\n",
        "* **(0, 512)**: Each dimension within this space can take values from 0 to 512, which corresponds to the pixel boundaries of the game.\n",
        "* **(8,)**: This shape indicates that there are 8 distinct variables in the observation vector, each capturing a critical feature of the environment.\n",
        "* **int64**: Each value in the vector is an integer of 64-bit precision.\n",
        "\n",
        "In summary, `Box(0, 512, (8,), int64)` represents an 8-dimensional vector space where each element is an integer from 0 to 512. Each dimension corresponds to a specific aspect of the *Flappy Bird* environment:\n",
        "\n",
        "1. **Player Y Position**: The vertical position of the bird, representing its height on the screen.\n",
        "2. **Player Velocity**: The bird’s current velocity, which impacts its movement and helps determine when to flap.\n",
        "3. **Distance to Next Pipe**: The horizontal distance between the bird and the next pipe, crucial for timing flaps.\n",
        "4. **Next Pipe Top Y Position**: The vertical position of the top of the next pipe, helping the bird gauge the gap.\n",
        "5. **Next Pipe Bottom Y Position**: The vertical position of the bottom of the next pipe, providing further data for navigating the gap.\n",
        "6. **Distance to Next-Next Pipe**: The horizontal distance to the pipe after the next one, giving the bird foresight into upcoming obstacles.\n",
        "7. **Next-Next Pipe Top Y Position**: The vertical position of the top of the pipe after the next one, extending the bird's view of upcoming gaps.\n",
        "8. **Next-Next Pipe Bottom Y Position**: The vertical position of the bottom of the pipe after the next one, for additional planning.\n",
        "\n",
        "Together, these dimensions offer the agent a detailed snapshot of the environment, helping it make decisions based on its position, velocity, and the layout of both current and upcoming obstacles.\n"
      ],
      "metadata": {
        "id": "bQsBJauryXVC"
      }
    },
    {
      "cell_type": "markdown",
      "source": [
        "### Action space"
      ],
      "metadata": {
        "id": "TLuIANMX0JRC"
      }
    },
    {
      "cell_type": "code",
      "source": [
        "env.action_space"
      ],
      "metadata": {
        "colab": {
          "base_uri": "https://localhost:8080/"
        },
        "id": "siDgIRASziZD",
        "outputId": "d05d2ae8-8605-48c6-c8a1-6b5e565fc7dc"
      },
      "execution_count": null,
      "outputs": [
        {
          "output_type": "execute_result",
          "data": {
            "text/plain": [
              "Discrete(2)"
            ]
          },
          "metadata": {},
          "execution_count": 43
        }
      ]
    },
    {
      "cell_type": "markdown",
      "source": [
        "In this *Flappy Bird* environment, the `Discrete(2)` action space defines the possible actions the agent can take, using a finite set of discrete values:\n",
        "\n",
        "* **Discrete**: This type of space is used when there are a limited number of distinct actions.\n",
        "* **2**: The number of actions available, represented by values 0 and 1.\n",
        "\n",
        "For *Flappy Bird*, these actions correspond to:\n",
        "  * **0**: Do nothing (the bird continues to fall due to gravity).\n",
        "  * **1**: Flap (the bird moves upward briefly).\n",
        "\n",
        "In summary, `Discrete(2)` defines an action space with two possible actions: allowing the bird to either continue falling or flap to move upward, which is essential for navigating the gaps between pipes.\n"
      ],
      "metadata": {
        "id": "tdPOZw630TUx"
      }
    },
    {
      "cell_type": "markdown",
      "source": [
        "### Rewards\n",
        "\n",
        "*Reward Structure:*\n",
        "\n",
        "\n",
        "\n",
        "*   **Positive Reward**: For each pipe successfully passed, the agent receives a reward of **+1**.\n",
        "*   **Negative Reward**: Upon reaching any terminal state, the agent receives a penalty of **-1**.\n",
        "*   **Zero Reward**: Any other senario the reward is **0**\n",
        "\n",
        "\n"
      ],
      "metadata": {
        "id": "oA95yg2--eXX"
      }
    },
    {
      "cell_type": "markdown",
      "source": [
        "### Running the environmen"
      ],
      "metadata": {
        "id": "sTbzOYOG33sE"
      }
    },
    {
      "cell_type": "code",
      "source": [
        "env = Game()\n",
        "env.seed(42)\n",
        "obs = env.reset()\n",
        "video_filename = '/content/vid.mp4'\n",
        "max_steps = 100\n",
        "# Evaluation\n",
        "with imageio.get_writer(video_filename, fps=24) as video:\n",
        "  obs = env.reset()\n",
        "  done = False\n",
        "  total_reward = 0\n",
        "  for step in range(max_steps):\n",
        "      action = env.action_space.sample()\n",
        "      obs, reward, done, info = env.step(action)\n",
        "      next_obs = obs  # Get agent's position directly from the environment\n",
        "      total_reward += reward\n",
        "      re = env.render()\n",
        "      video.append_data(re)\n",
        "      if done:\n",
        "        score = info['score']\n",
        "        print(\"Sum of rewards =\", total_reward, \", Number of steps=\", step, \"score: \", score)\n",
        "        break\n",
        "embed_mp4(video_filename)"
      ],
      "metadata": {
        "colab": {
          "base_uri": "https://localhost:8080/",
          "height": 519
        },
        "id": "OKOTC3dh38AP",
        "outputId": "804b96d5-94f5-4599-d572-2e325facf301"
      },
      "execution_count": null,
      "outputs": [
        {
          "output_type": "stream",
          "name": "stdout",
          "text": [
            "Sum of rewards = -1.0 , Number of steps= 41 score:  0\n"
          ]
        },
        {
          "output_type": "execute_result",
          "data": {
            "text/plain": [
              "<IPython.core.display.HTML object>"
            ],
            "text/html": [
              "\n",
              "  <video width=\"640\" height=\"480\" controls>\n",
              "    <source src=\"data:video/mp4;base64,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\" type=\"video/mp4\">\n",
              "  Your browser does not support the video tag.\n",
              "  </video>"
            ]
          },
          "metadata": {},
          "execution_count": 44
        }
      ]
    },
    {
      "cell_type": "markdown",
      "source": [
        "### Custom observation and reward shaping example of usage"
      ],
      "metadata": {
        "id": "FA6SrS10_pGo"
      }
    },
    {
      "cell_type": "code",
      "source": [
        "custom_obs_mapping = {0: \"average\",\n",
        "                      1: 'sum'}\n",
        "\n",
        "# meaningless preprocess method that average and sums all of the original features\n",
        "preprocess = lambda x: np.array([np.mean(x), np.sum(x)])\n",
        "\n",
        "# meaningless reward shaping method that added 1 to each original reward\n",
        "reward_shaping = lambda x, y, z: x+1\n",
        "\n",
        "env = Game(custom_obs=True,\n",
        "           custome_observation_map=custom_obs_mapping,\n",
        "           preprocess=preprocess,\n",
        "           reward_shaping=reward_shaping)\n",
        "env.seed(42)\n",
        "obs = env.reset()\n",
        "\n",
        "print(f\"observation space: {env.observation_space}\")\n",
        "for feaure, des in env.observation_map.items():\n",
        "  print(f\"feaure: {feaure} -> {des}\")\n",
        "\n",
        "print(f\"reset: {obs}\")\n",
        "print(\"#\"*100, end=\"\\n\\n\")\n",
        "video_filename = '/content/vid.mp4'\n",
        "max_steps = 100\n",
        "# Evaluation\n",
        "with imageio.get_writer(video_filename, fps=24) as video:\n",
        "  obs = env.reset()\n",
        "  done = False\n",
        "  total_reward = 0\n",
        "  for step in range(max_steps):\n",
        "      action = env.action_space.sample()\n",
        "      obs, reward, done, info = env.step(action)\n",
        "      next_obs = obs  # Get agent's position directly from the environment\n",
        "      total_reward += reward\n",
        "      re = env.render()\n",
        "      video.append_data(re)\n",
        "      if done:\n",
        "        score = info['score']\n",
        "        print(\"Sum of rewards =\", total_reward, \", Number of steps=\", step, \"score: \", score)\n",
        "        break\n",
        "embed_mp4(video_filename)"
      ],
      "metadata": {
        "colab": {
          "base_uri": "https://localhost:8080/",
          "height": 629
        },
        "id": "3ejzOhgJAAcV",
        "outputId": "ad4ed627-1310-4ebf-e6c5-72ff5736b4bf"
      },
      "execution_count": null,
      "outputs": [
        {
          "output_type": "stream",
          "name": "stdout",
          "text": [
            "observation space: Box(0, 512, (2,), int64)\n",
            "feaure: 0 -> average\n",
            "feaure: 1 -> sum\n",
            "reset: [ 197.5 1580. ]\n",
            "####################################################################################################\n",
            "\n",
            "Sum of rewards = 52.0 , Number of steps= 52 score:  0\n"
          ]
        },
        {
          "output_type": "execute_result",
          "data": {
            "text/plain": [
              "<IPython.core.display.HTML object>"
            ],
            "text/html": [
              "\n",
              "  <video width=\"640\" height=\"480\" controls>\n",
              "    <source src=\"data:video/mp4;base64,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\" type=\"video/mp4\">\n",
              "  Your browser does not support the video tag.\n",
              "  </video>"
            ]
          },
          "metadata": {},
          "execution_count": 45
        }
      ]
    },
    {
      "cell_type": "markdown",
      "source": [
        "# Your Work begins here"
      ],
      "metadata": {
        "id": "BSzUW-ufhISi"
      }
    },
    {
      "cell_type": "markdown",
      "source": [
        "## Preprocess"
      ],
      "metadata": {
        "id": "NV8nQ-G379Ek"
      }
    },
    {
      "cell_type": "markdown",
      "source": [
        "**Define the `preprocess` Method**\n",
        "\n",
        "- Create a function called `preprocess` that takes an observation as input.\n",
        "- The purpose of this function is to transform the raw observation into a format that optimizes learning for the agent. Use your creativity to design an effective preprocessing strategy for this task.\n",
        "\n",
        "**Suggested Approaches:**\n",
        "- **Normalization or Scaling**: Adjust observation values to a common range, such as $0$ to $1$ or $0$ to $N$, to improve stability in the learning process.\n",
        "- **Feature Extraction**: Emphasize key features in the observation that are crucial for achieving the environment's goals.\n",
        "- **Dimensionality Reduction**: Simplify the observation by removing or combining less significant parts to streamline learning and reduce complexity.\n",
        "\n",
        "**Compression and Q-Table Size**\n",
        "- Reducing the complexity of the observation, through techniques like scaling, normalization, or removing redundant features, effectively compresses the data. This compression simplifies the agent’s perception of the environment, helping it focus on the most relevant information.\n",
        "- In discrete environments, reducing observation dimensionality directly impacts the size of the Q-table. By compressing the observation space, you decrease the number of possible states, which makes the Q-table smaller and easier to manage. This reduction in Q-table size not only conserves memory but can also enhance learning efficiency.\n",
        "  \n",
        "Use these ideas to explain how your preprocessing strategy compresses the observation space and helps the agent handle the environment more effectively.\n",
        "\n",
        "**Rationalize Your Preprocessing Choices**\n",
        "\n",
        "- Include a brief explanation of your preprocessing choices. Explain why you believe this approach will improve the agent's learning efficiency and performance.\n",
        "- Discuss how these adjustments make the observations more interpretable or manageable for the learning algorithm.\n",
        "\n",
        "**Important**\n",
        "- The maximum value on the **Vertical** axis is **512**.\n",
        "- The maximum value on the **Horizontal** axis is **288**.\n"
      ],
      "metadata": {
        "id": "34GXgJztd6QZ"
      }
    },
    {
      "cell_type": "code",
      "source": [
        "custome_observation_map = {} # assing each action with a description of the feature meaning\n",
        "def preprocess(obs):\n",
        "  \"\"\"\n",
        "  insert your preprocessing code here\n",
        "  \"\"\"\n",
        "  return obs"
      ],
      "metadata": {
        "id": "LPHpNwt_8AAx"
      },
      "execution_count": null,
      "outputs": []
    },
    {
      "cell_type": "markdown",
      "source": [
        "## Reward shaping"
      ],
      "metadata": {
        "id": "562OuNkIeumH"
      }
    },
    {
      "cell_type": "markdown",
      "source": [
        "### Define a Reward Shaping Strategy\n",
        "\n",
        "**Reward shaping** means adjusting the rewards given to the agent to encourage desired actions and help it learn faster. In *Flappy Bird*, the goal is to create rewards that guide the bird to survive longer and avoid hitting pipes.\n",
        "\n",
        "**Steps for Reward Shaping:**\n",
        "\n",
        "1. **Identify Desired Behaviors**:\n",
        "   - Decide which behaviors you want to encourage. For example, flapping at the right time to pass through pipes or avoiding unnecessary flaps could be rewarded.\n",
        "\n",
        "2. **Design Rewards**:\n",
        "   - Use rewards that motivate the bird to take helpful actions without distracting from the main goal (staying alive). Here are some ideas:\n",
        "     - **Survival Reward**: Give a small reward for each step the bird survives.\n",
        "     - **Penalty for Hitting Pipes**: Apply a negative reward (penalty) when the bird crashes into a pipe.\n",
        "    - **Passing Through Pipes**: Provide a positive reward each time the bird successfully passes through a pipe.\n",
        "\n",
        "\n",
        "3. **Explain Your Reward Choices**:\n",
        "   - Add an explanation for your reward design. Why did you decide to reward certain actions or apply penalties?\n",
        "   - Describe how your rewards help the bird focus on staying alive and navigating pipes effectively.\n",
        "   - Provide an example demonstrating the impact of your reward shaping logic, ideally by comparing performance graphs with and without reward shaping.\n",
        "\n",
        "4. **Avoid Over-Shaping**:\n",
        "   - Avoid giving too many rewards for minor actions, as it could lead the bird to focus on short-term rewards instead of the main goal. Aim for a balance where the bird gets enough guidance without relying on intermediate rewards.\n",
        "\n",
        "**Q-Learning and Value Convergence**:\n",
        "   - Remember, shaping rewards impacts **Q-values** (the expected value of actions). When rewards are well-designed, the bird’s Q-values will better reflect valuable actions, helping it make smarter choices over time.\n",
        "\n",
        "Use these tips to develop a reward strategy that encourages the bird to navigate through pipes effectively while improving its learning.\n"
      ],
      "metadata": {
        "id": "zOnXqApDe7tg"
      }
    },
    {
      "cell_type": "code",
      "source": [
        "def reward_shaping(reward, terminal):\n",
        "  \"\"\"\n",
        "  insert your preprocessing code here\n",
        "  \"\"\"\n",
        "  return reward"
      ],
      "metadata": {
        "id": "bbGZVsX3f0m5"
      },
      "execution_count": null,
      "outputs": []
    },
    {
      "cell_type": "markdown",
      "source": [
        "## Implementation of Learning Agents"
      ],
      "metadata": {
        "id": "uRLgerJnhmXA"
      }
    },
    {
      "cell_type": "markdown",
      "source": [
        "Abstract Class for Implementing an On-Policy Agent\n",
        "\n",
        "Below is an abstract class to serve as a foundation for implementing an on-policy agent. Derive your agent from this class and implement the specific logic for your agent. Note that different agents may require additional parameters or functions to support their unique features and learning mechanisms.\n"
      ],
      "metadata": {
        "id": "Yev0iBqsjZVs"
      }
    },
    {
      "cell_type": "code",
      "source": [
        "from abc import ABC, abstractmethod\n",
        "\n",
        "class OnPolicyAgent(ABC):\n",
        "    def __init__(self, action_space, observation_space, gamma, learning_rate):\n",
        "        \"\"\"\n",
        "        Initializes the on-policy RL agent.\n",
        "        You can add more parameters\n",
        "        Parameters:\n",
        "        - action_space: The action space of the environment\n",
        "        - observation_space: The observation space of the environment\n",
        "        - gamma: Discount factor for future rewards\n",
        "        - learning_rate: Learning rate for policy updates\n",
        "        \"\"\"\n",
        "        self.action_space = action_space\n",
        "        self.observation_space = observation_space\n",
        "        self.gamma = gamma\n",
        "        self.learning_rate = learning_rate\n",
        "        self.policy = None  # Placeholder for policy (to be implemented in subclasses)\n",
        "\n",
        "    @abstractmethod\n",
        "    def select_action(self, observation, deterministic=False):\n",
        "        \"\"\"\n",
        "        Select an action based on the current policy.\n",
        "\n",
        "        Parameters:\n",
        "        - observation: Current state observation from the environment\n",
        "        -deterministic: Flag indicating whether to use a deterministic policy (default is False)\n",
        "        Returns:\n",
        "        - action: Chosen action based on the policy\n",
        "        \"\"\"\n",
        "        pass\n",
        "\n",
        "    @abstractmethod\n",
        "    def update_policy(self, transition):\n",
        "        \"\"\"\n",
        "        Update the policy based on the current transition.\n",
        "\n",
        "        Parameters:\n",
        "        - transition: Data collected from interactions with the environment (tuple of zero or more values such as acion, reward etc...)\n",
        "        \"\"\"\n",
        "        pass\n",
        "\n",
        "    @abstractmethod\n",
        "    def train(self, env, num_episodes, log_every):\n",
        "        \"\"\"\n",
        "        Train the agent over a specified number of episodes.\n",
        "\n",
        "        Parameters:\n",
        "        - env: The environment to train in\n",
        "        - num_episodes: Number of training episodes\n",
        "        \"\"\"\n",
        "        pass\n",
        "\n",
        "    @abstractmethod\n",
        "    def save_policy(self, file_path):\n",
        "        \"\"\"\n",
        "        Save the current policy to a file.\n",
        "\n",
        "        Parameters:\n",
        "        - file_path: Path to the file where the policy should be saved\n",
        "        \"\"\"\n",
        "        pass\n",
        "\n",
        "    @abstractmethod\n",
        "    def load_policy(self, file_path):\n",
        "        \"\"\"\n",
        "        Load a policy from a file.\n",
        "\n",
        "        Parameters:\n",
        "        - file_path: Path to the file from which the policy should be loaded\n",
        "        \"\"\"\n",
        "        pass\n",
        "\n",
        "    @abstractmethod\n",
        "    def run_policy(self, env):\n",
        "        \"\"\"\n",
        "        Run the loaded policy in the environment for one episode.\n",
        "\n",
        "        Parameters:\n",
        "        - env: The environment in which to run the policy\n",
        "\n",
        "        Returns:\n",
        "        - total_reward: Total reward accumulated in the episode\n",
        "        \"\"\"\n",
        "        pass\n"
      ],
      "metadata": {
        "id": "bq3JtejTh57r"
      },
      "execution_count": null,
      "outputs": []
    },
    {
      "cell_type": "markdown",
      "source": [
        "## Training"
      ],
      "metadata": {
        "id": "L4nG1NT6kLzQ"
      }
    },
    {
      "cell_type": "markdown",
      "source": [
        "#### Experimentation Instructions\n",
        "\n",
        "In this section, you will conduct a series of experiments to solve the environment using your on-policy agent. Follow these guidelines for a clear and comprehensive presentation of your work:\n",
        "\n",
        "1. **Design and Run Experiments**:\n",
        "   - Perform at least **5 distinct experiments** with your agent, including:\n",
        "     - **2 unsuccessful experiments** where the agent fails to learn the environment (reaching a score below the target).\n",
        "     - **1 successful experiment** where the agent achieves a score of **10** or higher. (Remember the score is define by the amount of pipes the agent has passed)\n",
        "\n",
        "   - *Note*: In practice, you are expected to try many configurations to observe various outcomes, even beyond these 3 experiments.\n",
        "\n",
        "2. **Provide Detailed Summaries**:\n",
        "   - For each experiment, include:\n",
        "     - **Graphs** that illustrate the training process, such as reward progression, steps, score, and  any other relevant metrics (there is many more metrics that we can learn from).\n",
        "     - **Explanations of Hyperparameters**: Clearly describe the configuration of hyperparameters chosen for each experiment, and the reasoning behind these choices.\n",
        "     - **Preprocessing and Reward Shaping**: Explain any data preprocessing or reward shaping techniques applied, along with the motivation for these techniques.\n",
        "\n",
        "3. **Analyze and Reflect**:\n",
        "   - **Result Analysis**: Analyze each experiment's outcome, focusing on why the agent may have succeeded or failed based on your configurations.\n",
        "   - **Insights and Deductions**: Draw insights from each experiment, noting what worked and what didn’t. Use these insights to refine your understanding of the environment and agent performance.\n",
        "\n",
        "4. **Final Report**:\n",
        "   - **Synthesize Findings**: Compile all observations, insights, and analysis from your experiments into a final report. This report should showcase your learnings and demonstrate a deep understanding of the experimentation process.\n",
        "   - **Emphasis on Analysis**: The analysis of your results and the conclusions drawn are the most critical aspects of this exercise. Dedicate ample attention to this section, as it will reflect your ability to interpret and understand the agent’s learning process.\n",
        "\n",
        "**Remember**: The goal of this exercise is to experiment, learn, and iterate. Document your process thoroughly, as this will form the foundation of your report.\n"
      ],
      "metadata": {
        "id": "c7SCgp8wkkQ5"
      }
    },
    {
      "cell_type": "code",
      "source": [
        "env = Game(custom_obs=True, preprocess=preprocess, reward_shaping=reward_shaping, custome_observation_map=custome_observation_map)\n",
        "\"\"\"\n",
        "Insert you experiment code here\n",
        "\"\"\""
      ],
      "metadata": {
        "id": "PHfYUscjkThj",
        "colab": {
          "base_uri": "https://localhost:8080/",
          "height": 36
        },
        "outputId": "903bc3ec-4efb-4167-c2cb-40ac544f8c27"
      },
      "execution_count": null,
      "outputs": [
        {
          "output_type": "execute_result",
          "data": {
            "text/plain": [
              "'\\nInsert you experiment code here\\n'"
            ],
            "application/vnd.google.colaboratory.intrinsic+json": {
              "type": "string"
            }
          },
          "metadata": {},
          "execution_count": 49
        }
      ]
    },
    {
      "cell_type": "markdown",
      "source": [
        "## Validation"
      ],
      "metadata": {
        "id": "Vk9cklTikbu_"
      }
    },
    {
      "cell_type": "markdown",
      "source": [
        "#### Validation Section\n",
        "\n",
        "In this section, you will validate your agent’s performance using the best-performing configuration identified in the experimentation phase. This validation step should be less exhaustive than the experimentation section but should provide sufficient evidence of your agent's consistency and stability.\n",
        "\n",
        "1. **Run Validation Trials**:\n",
        "   - Using the chosen configuration, run the agent in the environment for **multiple trials** (e.g., 5-10 episodes) to test its reliability.\n",
        "   - Observe the agent's performance across these trials to confirm whether it consistently achieves or exceeds the target score of 10.\n",
        "\n",
        "2. **Provide Key Summaries**:\n",
        "   - **Performance Metrics**: Summarize the agent’s performance with key metrics such as average score, highest score, and variance across trials.\n",
        "   - **Graphs** (Optional): Include basic graphs showing score progression or any other relevant metric, if they provide additional insight into the agent's stability.\n",
        "\n",
        "3. **Brief Analysis**:\n",
        "   - Reflect on the agent's performance in validation. Note any patterns or inconsistencies and provide a short explanation of how these results align (or differ) from your expectations based on the experimentation phase.\n",
        "\n",
        "*Note*: This validation section should confirm and strengthen the results of your experimentation, focusing on reliability and consistency rather than extensive analysis.\n",
        "\n",
        "*Note*: Store the agent's policy to files since you asked to provide aditional notbook that loads the agent policy\n"
      ],
      "metadata": {
        "id": "-4Z_jvJErVsQ"
      }
    },
    {
      "cell_type": "code",
      "source": [
        "\"\"\"\n",
        "Insert you validation code here\n",
        "\"\"\""
      ],
      "metadata": {
        "id": "65TXpKkgkeic",
        "colab": {
          "base_uri": "https://localhost:8080/"
        },
        "outputId": "31d46a28-f289-4531-e738-e0aad79e90eb"
      },
      "execution_count": null,
      "outputs": [
        {
          "output_type": "execute_result",
          "data": {
            "text/plain": [
              "'\\nInsert you validation code here\\n'"
            ],
            "application/vnd.google.colaboratory.intrinsic+json": {
              "type": "string"
            }
          },
          "metadata": {},
          "execution_count": 50
        }
      ]
    }
  ]
}